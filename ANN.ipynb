{
 "cells": [
  {
   "cell_type": "code",
   "execution_count": 1,
   "metadata": {},
   "outputs": [
    {
     "name": "stdout",
     "output_type": "stream",
     "text": [
      "WARNING:tensorflow:From c:\\Users\\User\\miniconda3\\lib\\site-packages\\keras\\src\\losses.py:2976: The name tf.losses.sparse_softmax_cross_entropy is deprecated. Please use tf.compat.v1.losses.sparse_softmax_cross_entropy instead.\n",
      "\n"
     ]
    }
   ],
   "source": [
    "import matplotlib.pyplot as plt\n",
    "import numpy as np\n",
    "import pandas as pd\n",
    "from sklearn.model_selection import train_test_split\n",
    "from sklearn.preprocessing import StandardScaler, OneHotEncoder, MinMaxScaler, LabelEncoder\n",
    "from sklearn.decomposition import PCA\n",
    "from tensorflow import keras\n",
    "from keras.models import Sequential\n",
    "from keras.layers import Dense"
   ]
  },
  {
   "cell_type": "code",
   "execution_count": 2,
   "metadata": {},
   "outputs": [],
   "source": [
    "traffic_dataset = pd.read_csv('TrafficTwoMonth.csv')"
   ]
  },
  {
   "cell_type": "code",
   "execution_count": 3,
   "metadata": {},
   "outputs": [
    {
     "data": {
      "text/html": [
       "<div>\n",
       "<style scoped>\n",
       "    .dataframe tbody tr th:only-of-type {\n",
       "        vertical-align: middle;\n",
       "    }\n",
       "\n",
       "    .dataframe tbody tr th {\n",
       "        vertical-align: top;\n",
       "    }\n",
       "\n",
       "    .dataframe thead th {\n",
       "        text-align: right;\n",
       "    }\n",
       "</style>\n",
       "<table border=\"1\" class=\"dataframe\">\n",
       "  <thead>\n",
       "    <tr style=\"text-align: right;\">\n",
       "      <th></th>\n",
       "      <th>Time</th>\n",
       "      <th>Date</th>\n",
       "      <th>Day of the week</th>\n",
       "      <th>CarCount</th>\n",
       "      <th>BikeCount</th>\n",
       "      <th>BusCount</th>\n",
       "      <th>TruckCount</th>\n",
       "      <th>Total</th>\n",
       "      <th>Traffic Situation</th>\n",
       "      <th>midday</th>\n",
       "    </tr>\n",
       "  </thead>\n",
       "  <tbody>\n",
       "    <tr>\n",
       "      <th>0</th>\n",
       "      <td>12:00:00</td>\n",
       "      <td>10</td>\n",
       "      <td>Tuesday</td>\n",
       "      <td>13</td>\n",
       "      <td>2</td>\n",
       "      <td>2</td>\n",
       "      <td>24</td>\n",
       "      <td>41</td>\n",
       "      <td>normal</td>\n",
       "      <td>AM</td>\n",
       "    </tr>\n",
       "    <tr>\n",
       "      <th>1</th>\n",
       "      <td>12:15:00</td>\n",
       "      <td>10</td>\n",
       "      <td>Tuesday</td>\n",
       "      <td>14</td>\n",
       "      <td>1</td>\n",
       "      <td>1</td>\n",
       "      <td>36</td>\n",
       "      <td>52</td>\n",
       "      <td>normal</td>\n",
       "      <td>AM</td>\n",
       "    </tr>\n",
       "    <tr>\n",
       "      <th>2</th>\n",
       "      <td>12:30:00</td>\n",
       "      <td>10</td>\n",
       "      <td>Tuesday</td>\n",
       "      <td>10</td>\n",
       "      <td>2</td>\n",
       "      <td>2</td>\n",
       "      <td>32</td>\n",
       "      <td>46</td>\n",
       "      <td>normal</td>\n",
       "      <td>AM</td>\n",
       "    </tr>\n",
       "    <tr>\n",
       "      <th>3</th>\n",
       "      <td>12:45:00</td>\n",
       "      <td>10</td>\n",
       "      <td>Tuesday</td>\n",
       "      <td>10</td>\n",
       "      <td>2</td>\n",
       "      <td>2</td>\n",
       "      <td>36</td>\n",
       "      <td>50</td>\n",
       "      <td>normal</td>\n",
       "      <td>AM</td>\n",
       "    </tr>\n",
       "    <tr>\n",
       "      <th>4</th>\n",
       "      <td>1:00:00</td>\n",
       "      <td>10</td>\n",
       "      <td>Tuesday</td>\n",
       "      <td>11</td>\n",
       "      <td>2</td>\n",
       "      <td>1</td>\n",
       "      <td>34</td>\n",
       "      <td>48</td>\n",
       "      <td>normal</td>\n",
       "      <td>AM</td>\n",
       "    </tr>\n",
       "    <tr>\n",
       "      <th>...</th>\n",
       "      <td>...</td>\n",
       "      <td>...</td>\n",
       "      <td>...</td>\n",
       "      <td>...</td>\n",
       "      <td>...</td>\n",
       "      <td>...</td>\n",
       "      <td>...</td>\n",
       "      <td>...</td>\n",
       "      <td>...</td>\n",
       "      <td>...</td>\n",
       "    </tr>\n",
       "    <tr>\n",
       "      <th>5947</th>\n",
       "      <td>10:45:00</td>\n",
       "      <td>9</td>\n",
       "      <td>Thursday</td>\n",
       "      <td>16</td>\n",
       "      <td>3</td>\n",
       "      <td>1</td>\n",
       "      <td>36</td>\n",
       "      <td>56</td>\n",
       "      <td>normal</td>\n",
       "      <td>PM</td>\n",
       "    </tr>\n",
       "    <tr>\n",
       "      <th>5948</th>\n",
       "      <td>11:00:00</td>\n",
       "      <td>9</td>\n",
       "      <td>Thursday</td>\n",
       "      <td>11</td>\n",
       "      <td>0</td>\n",
       "      <td>1</td>\n",
       "      <td>30</td>\n",
       "      <td>42</td>\n",
       "      <td>normal</td>\n",
       "      <td>PM</td>\n",
       "    </tr>\n",
       "    <tr>\n",
       "      <th>5949</th>\n",
       "      <td>11:15:00</td>\n",
       "      <td>9</td>\n",
       "      <td>Thursday</td>\n",
       "      <td>15</td>\n",
       "      <td>4</td>\n",
       "      <td>1</td>\n",
       "      <td>25</td>\n",
       "      <td>45</td>\n",
       "      <td>normal</td>\n",
       "      <td>PM</td>\n",
       "    </tr>\n",
       "    <tr>\n",
       "      <th>5950</th>\n",
       "      <td>11:30:00</td>\n",
       "      <td>9</td>\n",
       "      <td>Thursday</td>\n",
       "      <td>16</td>\n",
       "      <td>5</td>\n",
       "      <td>0</td>\n",
       "      <td>27</td>\n",
       "      <td>48</td>\n",
       "      <td>normal</td>\n",
       "      <td>PM</td>\n",
       "    </tr>\n",
       "    <tr>\n",
       "      <th>5951</th>\n",
       "      <td>11:45:00</td>\n",
       "      <td>9</td>\n",
       "      <td>Thursday</td>\n",
       "      <td>14</td>\n",
       "      <td>3</td>\n",
       "      <td>1</td>\n",
       "      <td>15</td>\n",
       "      <td>33</td>\n",
       "      <td>low</td>\n",
       "      <td>PM</td>\n",
       "    </tr>\n",
       "  </tbody>\n",
       "</table>\n",
       "<p>5952 rows × 10 columns</p>\n",
       "</div>"
      ],
      "text/plain": [
       "           Time  Date Day of the week  CarCount  BikeCount  BusCount  \\\n",
       "0     12:00:00     10         Tuesday        13          2         2   \n",
       "1     12:15:00     10         Tuesday        14          1         1   \n",
       "2     12:30:00     10         Tuesday        10          2         2   \n",
       "3     12:45:00     10         Tuesday        10          2         2   \n",
       "4      1:00:00     10         Tuesday        11          2         1   \n",
       "...         ...   ...             ...       ...        ...       ...   \n",
       "5947  10:45:00      9        Thursday        16          3         1   \n",
       "5948  11:00:00      9        Thursday        11          0         1   \n",
       "5949  11:15:00      9        Thursday        15          4         1   \n",
       "5950  11:30:00      9        Thursday        16          5         0   \n",
       "5951  11:45:00      9        Thursday        14          3         1   \n",
       "\n",
       "      TruckCount  Total Traffic Situation midday  \n",
       "0             24     41            normal     AM  \n",
       "1             36     52            normal     AM  \n",
       "2             32     46            normal     AM  \n",
       "3             36     50            normal     AM  \n",
       "4             34     48            normal     AM  \n",
       "...          ...    ...               ...    ...  \n",
       "5947          36     56            normal     PM  \n",
       "5948          30     42            normal     PM  \n",
       "5949          25     45            normal     PM  \n",
       "5950          27     48            normal     PM  \n",
       "5951          15     33               low     PM  \n",
       "\n",
       "[5952 rows x 10 columns]"
      ]
     },
     "execution_count": 3,
     "metadata": {},
     "output_type": "execute_result"
    }
   ],
   "source": [
    "traffic_dataset['midday'] = ''\n",
    "for i in range(len(traffic_dataset['Time'])):\n",
    "  if traffic_dataset['Time'][i][-2:].endswith('AM'):\n",
    "    traffic_dataset.loc[i, 'midday'] = 'AM'\n",
    "  elif traffic_dataset['Time'][i][-2:].endswith('PM'):\n",
    "    traffic_dataset.loc[i, 'midday'] = 'PM'\n",
    "\n",
    "traffic_dataset['Time'] = traffic_dataset['Time'].str[:-2]\n",
    "\n",
    "traffic_dataset"
   ]
  },
  {
   "cell_type": "code",
   "execution_count": 4,
   "metadata": {},
   "outputs": [
    {
     "name": "stderr",
     "output_type": "stream",
     "text": [
      "C:\\Users\\User\\AppData\\Local\\Temp\\ipykernel_12856\\2707208563.py:1: UserWarning: Could not infer format, so each element will be parsed individually, falling back to `dateutil`. To ensure parsing is consistent and as-expected, please specify a format.\n",
      "  traffic_dataset['Time'] = pd.to_datetime(traffic_dataset['Time']).dt.hour * 3600 + \\\n",
      "C:\\Users\\User\\AppData\\Local\\Temp\\ipykernel_12856\\2707208563.py:2: UserWarning: Could not infer format, so each element will be parsed individually, falling back to `dateutil`. To ensure parsing is consistent and as-expected, please specify a format.\n",
      "  pd.to_datetime(traffic_dataset['Time']).dt.minute * 60 + \\\n",
      "C:\\Users\\User\\AppData\\Local\\Temp\\ipykernel_12856\\2707208563.py:3: UserWarning: Could not infer format, so each element will be parsed individually, falling back to `dateutil`. To ensure parsing is consistent and as-expected, please specify a format.\n",
      "  pd.to_datetime(traffic_dataset['Time']).dt.second\n"
     ]
    }
   ],
   "source": [
    "traffic_dataset['Time'] = pd.to_datetime(traffic_dataset['Time']).dt.hour * 3600 + \\\n",
    "    pd.to_datetime(traffic_dataset['Time']).dt.minute * 60 + \\\n",
    "    pd.to_datetime(traffic_dataset['Time']).dt.second"
   ]
  },
  {
   "cell_type": "code",
   "execution_count": 5,
   "metadata": {},
   "outputs": [
    {
     "data": {
      "text/html": [
       "<div>\n",
       "<style scoped>\n",
       "    .dataframe tbody tr th:only-of-type {\n",
       "        vertical-align: middle;\n",
       "    }\n",
       "\n",
       "    .dataframe tbody tr th {\n",
       "        vertical-align: top;\n",
       "    }\n",
       "\n",
       "    .dataframe thead th {\n",
       "        text-align: right;\n",
       "    }\n",
       "</style>\n",
       "<table border=\"1\" class=\"dataframe\">\n",
       "  <thead>\n",
       "    <tr style=\"text-align: right;\">\n",
       "      <th></th>\n",
       "      <th>Time</th>\n",
       "      <th>Date</th>\n",
       "      <th>Day of the week</th>\n",
       "      <th>CarCount</th>\n",
       "      <th>BikeCount</th>\n",
       "      <th>BusCount</th>\n",
       "      <th>TruckCount</th>\n",
       "      <th>Total</th>\n",
       "      <th>midday</th>\n",
       "      <th>Traffic Situation</th>\n",
       "    </tr>\n",
       "  </thead>\n",
       "  <tbody>\n",
       "    <tr>\n",
       "      <th>0</th>\n",
       "      <td>0.936170</td>\n",
       "      <td>0.300000</td>\n",
       "      <td>0.833333</td>\n",
       "      <td>0.045714</td>\n",
       "      <td>0.028571</td>\n",
       "      <td>0.04</td>\n",
       "      <td>0.400000</td>\n",
       "      <td>0.077519</td>\n",
       "      <td>0.0</td>\n",
       "      <td>3</td>\n",
       "    </tr>\n",
       "    <tr>\n",
       "      <th>1</th>\n",
       "      <td>0.957447</td>\n",
       "      <td>0.300000</td>\n",
       "      <td>0.833333</td>\n",
       "      <td>0.051429</td>\n",
       "      <td>0.014286</td>\n",
       "      <td>0.02</td>\n",
       "      <td>0.600000</td>\n",
       "      <td>0.120155</td>\n",
       "      <td>0.0</td>\n",
       "      <td>3</td>\n",
       "    </tr>\n",
       "    <tr>\n",
       "      <th>2</th>\n",
       "      <td>0.978723</td>\n",
       "      <td>0.300000</td>\n",
       "      <td>0.833333</td>\n",
       "      <td>0.028571</td>\n",
       "      <td>0.028571</td>\n",
       "      <td>0.04</td>\n",
       "      <td>0.533333</td>\n",
       "      <td>0.096899</td>\n",
       "      <td>0.0</td>\n",
       "      <td>3</td>\n",
       "    </tr>\n",
       "    <tr>\n",
       "      <th>3</th>\n",
       "      <td>1.000000</td>\n",
       "      <td>0.300000</td>\n",
       "      <td>0.833333</td>\n",
       "      <td>0.028571</td>\n",
       "      <td>0.028571</td>\n",
       "      <td>0.04</td>\n",
       "      <td>0.600000</td>\n",
       "      <td>0.112403</td>\n",
       "      <td>0.0</td>\n",
       "      <td>3</td>\n",
       "    </tr>\n",
       "    <tr>\n",
       "      <th>4</th>\n",
       "      <td>0.000000</td>\n",
       "      <td>0.300000</td>\n",
       "      <td>0.833333</td>\n",
       "      <td>0.034286</td>\n",
       "      <td>0.028571</td>\n",
       "      <td>0.02</td>\n",
       "      <td>0.566667</td>\n",
       "      <td>0.104651</td>\n",
       "      <td>0.0</td>\n",
       "      <td>3</td>\n",
       "    </tr>\n",
       "    <tr>\n",
       "      <th>...</th>\n",
       "      <td>...</td>\n",
       "      <td>...</td>\n",
       "      <td>...</td>\n",
       "      <td>...</td>\n",
       "      <td>...</td>\n",
       "      <td>...</td>\n",
       "      <td>...</td>\n",
       "      <td>...</td>\n",
       "      <td>...</td>\n",
       "      <td>...</td>\n",
       "    </tr>\n",
       "    <tr>\n",
       "      <th>5947</th>\n",
       "      <td>0.829787</td>\n",
       "      <td>0.266667</td>\n",
       "      <td>0.666667</td>\n",
       "      <td>0.062857</td>\n",
       "      <td>0.042857</td>\n",
       "      <td>0.02</td>\n",
       "      <td>0.600000</td>\n",
       "      <td>0.135659</td>\n",
       "      <td>1.0</td>\n",
       "      <td>3</td>\n",
       "    </tr>\n",
       "    <tr>\n",
       "      <th>5948</th>\n",
       "      <td>0.851064</td>\n",
       "      <td>0.266667</td>\n",
       "      <td>0.666667</td>\n",
       "      <td>0.034286</td>\n",
       "      <td>0.000000</td>\n",
       "      <td>0.02</td>\n",
       "      <td>0.500000</td>\n",
       "      <td>0.081395</td>\n",
       "      <td>1.0</td>\n",
       "      <td>3</td>\n",
       "    </tr>\n",
       "    <tr>\n",
       "      <th>5949</th>\n",
       "      <td>0.872340</td>\n",
       "      <td>0.266667</td>\n",
       "      <td>0.666667</td>\n",
       "      <td>0.057143</td>\n",
       "      <td>0.057143</td>\n",
       "      <td>0.02</td>\n",
       "      <td>0.416667</td>\n",
       "      <td>0.093023</td>\n",
       "      <td>1.0</td>\n",
       "      <td>3</td>\n",
       "    </tr>\n",
       "    <tr>\n",
       "      <th>5950</th>\n",
       "      <td>0.893617</td>\n",
       "      <td>0.266667</td>\n",
       "      <td>0.666667</td>\n",
       "      <td>0.062857</td>\n",
       "      <td>0.071429</td>\n",
       "      <td>0.00</td>\n",
       "      <td>0.450000</td>\n",
       "      <td>0.104651</td>\n",
       "      <td>1.0</td>\n",
       "      <td>3</td>\n",
       "    </tr>\n",
       "    <tr>\n",
       "      <th>5951</th>\n",
       "      <td>0.914894</td>\n",
       "      <td>0.266667</td>\n",
       "      <td>0.666667</td>\n",
       "      <td>0.051429</td>\n",
       "      <td>0.042857</td>\n",
       "      <td>0.02</td>\n",
       "      <td>0.250000</td>\n",
       "      <td>0.046512</td>\n",
       "      <td>1.0</td>\n",
       "      <td>2</td>\n",
       "    </tr>\n",
       "  </tbody>\n",
       "</table>\n",
       "<p>5952 rows × 10 columns</p>\n",
       "</div>"
      ],
      "text/plain": [
       "          Time      Date  Day of the week  CarCount  BikeCount  BusCount  \\\n",
       "0     0.936170  0.300000         0.833333  0.045714   0.028571      0.04   \n",
       "1     0.957447  0.300000         0.833333  0.051429   0.014286      0.02   \n",
       "2     0.978723  0.300000         0.833333  0.028571   0.028571      0.04   \n",
       "3     1.000000  0.300000         0.833333  0.028571   0.028571      0.04   \n",
       "4     0.000000  0.300000         0.833333  0.034286   0.028571      0.02   \n",
       "...        ...       ...              ...       ...        ...       ...   \n",
       "5947  0.829787  0.266667         0.666667  0.062857   0.042857      0.02   \n",
       "5948  0.851064  0.266667         0.666667  0.034286   0.000000      0.02   \n",
       "5949  0.872340  0.266667         0.666667  0.057143   0.057143      0.02   \n",
       "5950  0.893617  0.266667         0.666667  0.062857   0.071429      0.00   \n",
       "5951  0.914894  0.266667         0.666667  0.051429   0.042857      0.02   \n",
       "\n",
       "      TruckCount     Total  midday  Traffic Situation  \n",
       "0       0.400000  0.077519     0.0                  3  \n",
       "1       0.600000  0.120155     0.0                  3  \n",
       "2       0.533333  0.096899     0.0                  3  \n",
       "3       0.600000  0.112403     0.0                  3  \n",
       "4       0.566667  0.104651     0.0                  3  \n",
       "...          ...       ...     ...                ...  \n",
       "5947    0.600000  0.135659     1.0                  3  \n",
       "5948    0.500000  0.081395     1.0                  3  \n",
       "5949    0.416667  0.093023     1.0                  3  \n",
       "5950    0.450000  0.104651     1.0                  3  \n",
       "5951    0.250000  0.046512     1.0                  2  \n",
       "\n",
       "[5952 rows x 10 columns]"
      ]
     },
     "execution_count": 5,
     "metadata": {},
     "output_type": "execute_result"
    }
   ],
   "source": [
    "feature_except_target = traffic_dataset.drop(['Traffic Situation'], axis=1)\n",
    "target_feature = traffic_dataset['Traffic Situation']\n",
    "\n",
    "label_encoder = LabelEncoder()\n",
    "feature_except_target['midday'] = label_encoder.fit_transform(feature_except_target['midday'])\n",
    "feature_except_target['Day of the week'] = label_encoder.fit_transform(feature_except_target['Day of the week'])\n",
    "\n",
    "numeric_features = ['Time', 'Date', 'Day of the week', 'CarCount', 'BikeCount', 'BusCount', 'TruckCount', 'Total', 'midday']\n",
    "normalization_scaler = MinMaxScaler()\n",
    "feature_except_target[numeric_features] = normalization_scaler.fit_transform(feature_except_target[numeric_features])\n",
    "\n",
    "target_encoder = LabelEncoder()\n",
    "target_feature = target_encoder.fit_transform(target_feature)\n",
    "\n",
    "encoded_data_normalized = pd.concat([feature_except_target,  pd.Series(target_feature, name='Traffic Situation')], axis=1)\n",
    "\n",
    "encoded_data_normalized"
   ]
  },
  {
   "cell_type": "code",
   "execution_count": 6,
   "metadata": {},
   "outputs": [
    {
     "name": "stdout",
     "output_type": "stream",
     "text": [
      "          Time      Date  Day of the week  CarCount  BikeCount  BusCount  \\\n",
      "0     0.936170  0.300000         0.833333  0.045714   0.028571      0.04   \n",
      "1     0.957447  0.300000         0.833333  0.051429   0.014286      0.02   \n",
      "2     0.978723  0.300000         0.833333  0.028571   0.028571      0.04   \n",
      "3     1.000000  0.300000         0.833333  0.028571   0.028571      0.04   \n",
      "4     0.000000  0.300000         0.833333  0.034286   0.028571      0.02   \n",
      "...        ...       ...              ...       ...        ...       ...   \n",
      "5947  0.829787  0.266667         0.666667  0.062857   0.042857      0.02   \n",
      "5948  0.851064  0.266667         0.666667  0.034286   0.000000      0.02   \n",
      "5949  0.872340  0.266667         0.666667  0.057143   0.057143      0.02   \n",
      "5950  0.893617  0.266667         0.666667  0.062857   0.071429      0.00   \n",
      "5951  0.914894  0.266667         0.666667  0.051429   0.042857      0.02   \n",
      "\n",
      "      TruckCount     Total  midday  \n",
      "0       0.400000  0.077519     0.0  \n",
      "1       0.600000  0.120155     0.0  \n",
      "2       0.533333  0.096899     0.0  \n",
      "3       0.600000  0.112403     0.0  \n",
      "4       0.566667  0.104651     0.0  \n",
      "...          ...       ...     ...  \n",
      "5947    0.600000  0.135659     1.0  \n",
      "5948    0.500000  0.081395     1.0  \n",
      "5949    0.416667  0.093023     1.0  \n",
      "5950    0.450000  0.104651     1.0  \n",
      "5951    0.250000  0.046512     1.0  \n",
      "\n",
      "[5952 rows x 9 columns]\n"
     ]
    },
    {
     "data": {
      "text/plain": [
       "0       3\n",
       "1       3\n",
       "2       3\n",
       "3       3\n",
       "4       3\n",
       "       ..\n",
       "5947    3\n",
       "5948    3\n",
       "5949    3\n",
       "5950    3\n",
       "5951    2\n",
       "Name: Traffic Situation, Length: 5952, dtype: int32"
      ]
     },
     "execution_count": 6,
     "metadata": {},
     "output_type": "execute_result"
    }
   ],
   "source": [
    "traffic_data = encoded_data_normalized.iloc[:,0:9]\n",
    "\n",
    "print(traffic_data)\n",
    "\n",
    "traffic_target = encoded_data_normalized.iloc[:,9]\n",
    "\n",
    "traffic_target"
   ]
  },
  {
   "cell_type": "markdown",
   "metadata": {},
   "source": [
    "### **Model using relu, softmax, adam**"
   ]
  },
  {
   "cell_type": "code",
   "execution_count": 15,
   "metadata": {},
   "outputs": [
    {
     "name": "stderr",
     "output_type": "stream",
     "text": [
      "c:\\Users\\User\\miniconda3\\lib\\site-packages\\sklearn\\preprocessing\\_encoders.py:975: FutureWarning: `sparse` was renamed to `sparse_output` in version 1.2 and will be removed in 1.4. `sparse_output` is ignored unless you leave `sparse` to its default value.\n",
      "  warnings.warn(\n"
     ]
    },
    {
     "name": "stdout",
     "output_type": "stream",
     "text": [
      "For ratio 0.7 accuracy score is: 0.7872340679168701\n"
     ]
    },
    {
     "name": "stderr",
     "output_type": "stream",
     "text": [
      "c:\\Users\\User\\miniconda3\\lib\\site-packages\\sklearn\\preprocessing\\_encoders.py:975: FutureWarning: `sparse` was renamed to `sparse_output` in version 1.2 and will be removed in 1.4. `sparse_output` is ignored unless you leave `sparse` to its default value.\n",
      "  warnings.warn(\n"
     ]
    },
    {
     "name": "stdout",
     "output_type": "stream",
     "text": [
      "For ratio 0.8 accuracy score is: 0.7850545644760132\n"
     ]
    },
    {
     "name": "stderr",
     "output_type": "stream",
     "text": [
      "c:\\Users\\User\\miniconda3\\lib\\site-packages\\sklearn\\preprocessing\\_encoders.py:975: FutureWarning: `sparse` was renamed to `sparse_output` in version 1.2 and will be removed in 1.4. `sparse_output` is ignored unless you leave `sparse` to its default value.\n",
      "  warnings.warn(\n"
     ]
    },
    {
     "name": "stdout",
     "output_type": "stream",
     "text": [
      "For ratio 0.9 accuracy score is: 0.7852349281311035\n",
      "Model: \"sequential_5\"\n",
      "_________________________________________________________________\n",
      " Layer (type)                Output Shape              Param #   \n",
      "=================================================================\n",
      " dense_10 (Dense)            (None, 16)                48        \n",
      "                                                                 \n",
      " dense_11 (Dense)            (None, 4)                 68        \n",
      "                                                                 \n",
      "=================================================================\n",
      "Total params: 116 (464.00 Byte)\n",
      "Trainable params: 116 (464.00 Byte)\n",
      "Non-trainable params: 0 (0.00 Byte)\n",
      "_________________________________________________________________\n",
      "None\n"
     ]
    }
   ],
   "source": [
    "for ratio in [0.7, 0.8, 0.9]:\n",
    "  X_train, X_test, y_train, y_test = train_test_split(traffic_data, traffic_target, test_size=1-ratio, random_state=42)\n",
    "\n",
    "  encoder = OneHotEncoder(sparse=False)\n",
    "  y_train_encoder = encoder.fit_transform(y_train.values.reshape(-1, 1))\n",
    "  y_test_encoder = encoder.transform(y_test.values.reshape(-1, 1))\n",
    "\n",
    "  y_train_encoder.shape\n",
    "\n",
    "  model = Sequential()\n",
    "  model.add(Dense(16, input_dim=2, activation='relu'))\n",
    "  model.add(Dense(4, activation='softmax'))\n",
    "  model.compile(loss='categorical_crossentropy', optimizer='adam', metrics=['accuracy'])\n",
    "  # print(model.summary())\n",
    "\n",
    "  num_components = 2\n",
    "  pca = PCA(n_components=num_components)\n",
    "  x_train_pca = pca.fit_transform(X_train)\n",
    "  x_test_pca = pca.transform(X_test)\n",
    "  \n",
    "\n",
    "  model.fit(x_train_pca, y_train_encoder, epochs=50, batch_size=8, verbose=0)\n",
    "  _, accuracy_nn = model.evaluate(x_test_pca, y_test_encoder, verbose=0)\n",
    "  print(f'For ratio {ratio} accuracy score is: {accuracy_nn}')\n",
    "print(model.summary())"
   ]
  },
  {
   "cell_type": "markdown",
   "metadata": {},
   "source": [
    "### **Model using tanh, sigmoid, rmsprop**"
   ]
  },
  {
   "cell_type": "code",
   "execution_count": 20,
   "metadata": {},
   "outputs": [
    {
     "name": "stderr",
     "output_type": "stream",
     "text": [
      "c:\\Users\\User\\miniconda3\\lib\\site-packages\\sklearn\\preprocessing\\_encoders.py:975: FutureWarning: `sparse` was renamed to `sparse_output` in version 1.2 and will be removed in 1.4. `sparse_output` is ignored unless you leave `sparse` to its default value.\n",
      "  warnings.warn(\n"
     ]
    },
    {
     "name": "stdout",
     "output_type": "stream",
     "text": [
      "For ratio 0.7 accuracy score is: 0.7844344973564148\n"
     ]
    },
    {
     "name": "stderr",
     "output_type": "stream",
     "text": [
      "c:\\Users\\User\\miniconda3\\lib\\site-packages\\sklearn\\preprocessing\\_encoders.py:975: FutureWarning: `sparse` was renamed to `sparse_output` in version 1.2 and will be removed in 1.4. `sparse_output` is ignored unless you leave `sparse` to its default value.\n",
      "  warnings.warn(\n"
     ]
    },
    {
     "name": "stdout",
     "output_type": "stream",
     "text": [
      "For ratio 0.8 accuracy score is: 0.7833753228187561\n"
     ]
    },
    {
     "name": "stderr",
     "output_type": "stream",
     "text": [
      "c:\\Users\\User\\miniconda3\\lib\\site-packages\\sklearn\\preprocessing\\_encoders.py:975: FutureWarning: `sparse` was renamed to `sparse_output` in version 1.2 and will be removed in 1.4. `sparse_output` is ignored unless you leave `sparse` to its default value.\n",
      "  warnings.warn(\n"
     ]
    },
    {
     "name": "stdout",
     "output_type": "stream",
     "text": [
      "For ratio 0.9 accuracy score is: 0.7785235047340393\n",
      "Model: \"sequential_15\"\n",
      "_________________________________________________________________\n",
      " Layer (type)                Output Shape              Param #   \n",
      "=================================================================\n",
      " dense_30 (Dense)            (None, 16)                48        \n",
      "                                                                 \n",
      " dense_31 (Dense)            (None, 4)                 68        \n",
      "                                                                 \n",
      "=================================================================\n",
      "Total params: 116 (464.00 Byte)\n",
      "Trainable params: 116 (464.00 Byte)\n",
      "Non-trainable params: 0 (0.00 Byte)\n",
      "_________________________________________________________________\n",
      "None\n"
     ]
    }
   ],
   "source": [
    "for ratio in [0.7, 0.8, 0.9]:\n",
    "  X_train, X_test, y_train, y_test = train_test_split(traffic_data, traffic_target, test_size=1-ratio, random_state=42)\n",
    "\n",
    "  encoder = OneHotEncoder(sparse=False)\n",
    "  y_train_encoder = encoder.fit_transform(y_train.values.reshape(-1, 1))\n",
    "  y_test_encoder = encoder.transform(y_test.values.reshape(-1, 1))\n",
    "\n",
    "  y_train_encoder.shape\n",
    "\n",
    "  model1 = Sequential()\n",
    "  model1.add(Dense(16, input_dim=2, activation='relu'))\n",
    "  model1.add(Dense(4, activation='softmax'))\n",
    "  model1.compile(loss='categorical_crossentropy', optimizer='adam', metrics=['accuracy'])\n",
    "  # print(model.summary())\n",
    "\n",
    "  num_components = 2\n",
    "  pca = PCA(n_components=num_components)\n",
    "  x_train_pca = pca.fit_transform(X_train)\n",
    "  x_test_pca = pca.transform(X_test)\n",
    "  \n",
    "\n",
    "  model1.fit(x_train_pca, y_train_encoder, epochs=50, batch_size=12, verbose=0)\n",
    "  _, accuracy_nn = model1.evaluate(x_test_pca, y_test_encoder, verbose=0)\n",
    "  print(f'For ratio {ratio} accuracy score is: {accuracy_nn}')\n",
    "print(model1.summary())"
   ]
  },
  {
   "cell_type": "markdown",
   "metadata": {},
   "source": [
    "### **Model using tanh, softmax, adam**"
   ]
  },
  {
   "cell_type": "code",
   "execution_count": 21,
   "metadata": {},
   "outputs": [
    {
     "name": "stderr",
     "output_type": "stream",
     "text": [
      "c:\\Users\\User\\miniconda3\\lib\\site-packages\\sklearn\\preprocessing\\_encoders.py:975: FutureWarning: `sparse` was renamed to `sparse_output` in version 1.2 and will be removed in 1.4. `sparse_output` is ignored unless you leave `sparse` to its default value.\n",
      "  warnings.warn(\n"
     ]
    },
    {
     "name": "stdout",
     "output_type": "stream",
     "text": [
      "For ratio 0.7 accuracy score is: 0.7844344973564148\n"
     ]
    },
    {
     "name": "stderr",
     "output_type": "stream",
     "text": [
      "c:\\Users\\User\\miniconda3\\lib\\site-packages\\sklearn\\preprocessing\\_encoders.py:975: FutureWarning: `sparse` was renamed to `sparse_output` in version 1.2 and will be removed in 1.4. `sparse_output` is ignored unless you leave `sparse` to its default value.\n",
      "  warnings.warn(\n"
     ]
    },
    {
     "name": "stdout",
     "output_type": "stream",
     "text": [
      "For ratio 0.8 accuracy score is: 0.784214973449707\n"
     ]
    },
    {
     "name": "stderr",
     "output_type": "stream",
     "text": [
      "c:\\Users\\User\\miniconda3\\lib\\site-packages\\sklearn\\preprocessing\\_encoders.py:975: FutureWarning: `sparse` was renamed to `sparse_output` in version 1.2 and will be removed in 1.4. `sparse_output` is ignored unless you leave `sparse` to its default value.\n",
      "  warnings.warn(\n"
     ]
    },
    {
     "name": "stdout",
     "output_type": "stream",
     "text": [
      "For ratio 0.9 accuracy score is: 0.7751677632331848\n",
      "Model: \"sequential_18\"\n",
      "_________________________________________________________________\n",
      " Layer (type)                Output Shape              Param #   \n",
      "=================================================================\n",
      " dense_36 (Dense)            (None, 16)                48        \n",
      "                                                                 \n",
      " dense_37 (Dense)            (None, 4)                 68        \n",
      "                                                                 \n",
      "=================================================================\n",
      "Total params: 116 (464.00 Byte)\n",
      "Trainable params: 116 (464.00 Byte)\n",
      "Non-trainable params: 0 (0.00 Byte)\n",
      "_________________________________________________________________\n",
      "None\n"
     ]
    }
   ],
   "source": [
    "for ratio in [0.7, 0.8, 0.9]:\n",
    "  X_train, X_test, y_train, y_test = train_test_split(traffic_data, traffic_target, test_size=1-ratio, random_state=42)\n",
    "\n",
    "  encoder = OneHotEncoder(sparse=False)\n",
    "  y_train_encoder = encoder.fit_transform(y_train.values.reshape(-1, 1))\n",
    "  y_test_encoder = encoder.transform(y_test.values.reshape(-1, 1))\n",
    "\n",
    "  y_train_encoder.shape\n",
    "\n",
    "  model2 = Sequential()\n",
    "  model2.add(Dense(16, input_dim=2, activation='tanh'))\n",
    "  model2.add(Dense(4, activation='softmax'))\n",
    "  model2.compile(loss='categorical_crossentropy', optimizer='adam', metrics=['accuracy'])\n",
    "  # print(model.summary())\n",
    "\n",
    "  num_components = 2\n",
    "  pca = PCA(n_components=num_components)\n",
    "  x_train_pca = pca.fit_transform(X_train)\n",
    "  x_test_pca = pca.transform(X_test)\n",
    "  \n",
    "\n",
    "  model2.fit(x_train_pca, y_train_encoder, epochs=50, batch_size=20, verbose=0)\n",
    "  _, accuracy_nn = model2.evaluate(x_test_pca, y_test_encoder, verbose=0)\n",
    "  print(f'For ratio {ratio} accuracy score is: {accuracy_nn}')\n",
    "print(model2.summary())"
   ]
  },
  {
   "cell_type": "markdown",
   "metadata": {},
   "source": [
    "### **Relu, Sigmoid, Rmsprop**"
   ]
  },
  {
   "cell_type": "code",
   "execution_count": 22,
   "metadata": {},
   "outputs": [
    {
     "name": "stderr",
     "output_type": "stream",
     "text": [
      "c:\\Users\\User\\miniconda3\\lib\\site-packages\\sklearn\\preprocessing\\_encoders.py:975: FutureWarning: `sparse` was renamed to `sparse_output` in version 1.2 and will be removed in 1.4. `sparse_output` is ignored unless you leave `sparse` to its default value.\n",
      "  warnings.warn(\n"
     ]
    },
    {
     "name": "stdout",
     "output_type": "stream",
     "text": [
      "For ratio 0.7 accuracy score is: 0.7793952822685242\n"
     ]
    },
    {
     "name": "stderr",
     "output_type": "stream",
     "text": [
      "c:\\Users\\User\\miniconda3\\lib\\site-packages\\sklearn\\preprocessing\\_encoders.py:975: FutureWarning: `sparse` was renamed to `sparse_output` in version 1.2 and will be removed in 1.4. `sparse_output` is ignored unless you leave `sparse` to its default value.\n",
      "  warnings.warn(\n"
     ]
    },
    {
     "name": "stdout",
     "output_type": "stream",
     "text": [
      "For ratio 0.8 accuracy score is: 0.786733865737915\n"
     ]
    },
    {
     "name": "stderr",
     "output_type": "stream",
     "text": [
      "c:\\Users\\User\\miniconda3\\lib\\site-packages\\sklearn\\preprocessing\\_encoders.py:975: FutureWarning: `sparse` was renamed to `sparse_output` in version 1.2 and will be removed in 1.4. `sparse_output` is ignored unless you leave `sparse` to its default value.\n",
      "  warnings.warn(\n"
     ]
    },
    {
     "name": "stdout",
     "output_type": "stream",
     "text": [
      "For ratio 0.9 accuracy score is: 0.7885906100273132\n",
      "Model: \"sequential_21\"\n",
      "_________________________________________________________________\n",
      " Layer (type)                Output Shape              Param #   \n",
      "=================================================================\n",
      " dense_42 (Dense)            (None, 32)                96        \n",
      "                                                                 \n",
      " dense_43 (Dense)            (None, 4)                 132       \n",
      "                                                                 \n",
      "=================================================================\n",
      "Total params: 228 (912.00 Byte)\n",
      "Trainable params: 228 (912.00 Byte)\n",
      "Non-trainable params: 0 (0.00 Byte)\n",
      "_________________________________________________________________\n",
      "None\n"
     ]
    }
   ],
   "source": [
    "for ratio in [0.7, 0.8, 0.9]:\n",
    "  X_train, X_test, y_train, y_test = train_test_split(traffic_data, traffic_target, test_size=1-ratio, random_state=42)\n",
    "\n",
    "  encoder = OneHotEncoder(sparse=False)\n",
    "  y_train_encoder = encoder.fit_transform(y_train.values.reshape(-1, 1))\n",
    "  y_test_encoder = encoder.transform(y_test.values.reshape(-1, 1))\n",
    "\n",
    "  y_train_encoder.shape\n",
    "\n",
    "  model3 = Sequential()\n",
    "  model3.add(Dense(32, input_dim=2, activation='relu'))\n",
    "  model3.add(Dense(4, activation='sigmoid'))\n",
    "  model3.compile(loss='categorical_crossentropy', optimizer='rmsprop', metrics=['accuracy'])\n",
    "\n",
    "  num_components = 2\n",
    "  pca = PCA(n_components=num_components)\n",
    "  x_train_pca = pca.fit_transform(X_train)\n",
    "  x_test_pca = pca.transform(X_test)\n",
    "  \n",
    "\n",
    "  model3.fit(x_train_pca, y_train_encoder, epochs=50, batch_size=25, verbose=0)\n",
    "  _, accuracy_nn = model3.evaluate(x_test_pca, y_test_encoder, verbose=0)\n",
    "  print(f'For ratio {ratio} accuracy score is: {accuracy_nn}')\n",
    "print(model3.summary())"
   ]
  },
  {
   "cell_type": "code",
   "execution_count": 23,
   "metadata": {},
   "outputs": [
    {
     "data": {
      "text/plain": [
       "<matplotlib.legend.Legend at 0x1f279b86910>"
      ]
     },
     "execution_count": 23,
     "metadata": {},
     "output_type": "execute_result"
    },
    {
     "data": {
      "image/png": "[encoded data removed]",
      "text/plain": [
       "<Figure size 1200x600 with 1 Axes>"
      ]
     },
     "metadata": {},
     "output_type": "display_data"
    }
   ],
   "source": [
    "plt.figure(figsize=(12, 6))\n",
    "\n",
    "for label in np.unique(y_test):\n",
    "    indices = y_test == label\n",
    "    plt.scatter(x_test_pca[indices, 0], x_test_pca[indices, 1], label=f'Class {label}', alpha=0.7)\n",
    "plt.title('Data after PCA')\n",
    "plt.xlabel('Feature 1')\n",
    "plt.ylabel('Feature 2')\n",
    "plt.legend()\n",
    "\n"
   ]
  },
  {
   "cell_type": "code",
   "execution_count": null,
   "metadata": {},
   "outputs": [],
   "source": []
  }
 ],
 "metadata": {
  "kernelspec": {
   "display_name": "base",
   "language": "python",
   "name": "python3"
  },
  "language_info": {
   "codemirror_mode": {
    "name": "ipython",
    "version": 3
   },
   "file_extension": ".py",
   "mimetype": "text/x-python",
   "name": "python",
   "nbconvert_exporter": "python",
   "pygments_lexer": "ipython3",
   "version": "3.9.12"
  }
 },
 "nbformat": 4,
 "nbformat_minor": 2
}
