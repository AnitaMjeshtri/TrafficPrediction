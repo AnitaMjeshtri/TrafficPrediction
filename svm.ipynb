{
 "cells": [
  {
   "cell_type": "markdown",
   "metadata": {},
   "source": [
    "This is the implementation of supervised learning using the Support Vector Machines model for the traffic prediction dataset."
   ]
  },
  {
   "cell_type": "code",
   "execution_count": 4,
   "metadata": {},
   "outputs": [
    {
     "name": "stdout",
     "output_type": "stream",
     "text": [
      "Calling the head() method on the traffic data:\n",
      "\n"
     ]
    },
    {
     "data": {
      "text/html": [
       "<div>\n",
       "<style scoped>\n",
       "    .dataframe tbody tr th:only-of-type {\n",
       "        vertical-align: middle;\n",
       "    }\n",
       "\n",
       "    .dataframe tbody tr th {\n",
       "        vertical-align: top;\n",
       "    }\n",
       "\n",
       "    .dataframe thead th {\n",
       "        text-align: right;\n",
       "    }\n",
       "</style>\n",
       "<table border=\"1\" class=\"dataframe\">\n",
       "  <thead>\n",
       "    <tr style=\"text-align: right;\">\n",
       "      <th></th>\n",
       "      <th>Time</th>\n",
       "      <th>Date</th>\n",
       "      <th>Day of the week</th>\n",
       "      <th>CarCount</th>\n",
       "      <th>BikeCount</th>\n",
       "      <th>BusCount</th>\n",
       "      <th>TruckCount</th>\n",
       "      <th>Total</th>\n",
       "      <th>Traffic Situation</th>\n",
       "    </tr>\n",
       "  </thead>\n",
       "  <tbody>\n",
       "    <tr>\n",
       "      <th>0</th>\n",
       "      <td>12:00:00 AM</td>\n",
       "      <td>10</td>\n",
       "      <td>Tuesday</td>\n",
       "      <td>13</td>\n",
       "      <td>2</td>\n",
       "      <td>2</td>\n",
       "      <td>24</td>\n",
       "      <td>41</td>\n",
       "      <td>normal</td>\n",
       "    </tr>\n",
       "    <tr>\n",
       "      <th>1</th>\n",
       "      <td>12:15:00 AM</td>\n",
       "      <td>10</td>\n",
       "      <td>Tuesday</td>\n",
       "      <td>14</td>\n",
       "      <td>1</td>\n",
       "      <td>1</td>\n",
       "      <td>36</td>\n",
       "      <td>52</td>\n",
       "      <td>normal</td>\n",
       "    </tr>\n",
       "    <tr>\n",
       "      <th>2</th>\n",
       "      <td>12:30:00 AM</td>\n",
       "      <td>10</td>\n",
       "      <td>Tuesday</td>\n",
       "      <td>10</td>\n",
       "      <td>2</td>\n",
       "      <td>2</td>\n",
       "      <td>32</td>\n",
       "      <td>46</td>\n",
       "      <td>normal</td>\n",
       "    </tr>\n",
       "    <tr>\n",
       "      <th>3</th>\n",
       "      <td>12:45:00 AM</td>\n",
       "      <td>10</td>\n",
       "      <td>Tuesday</td>\n",
       "      <td>10</td>\n",
       "      <td>2</td>\n",
       "      <td>2</td>\n",
       "      <td>36</td>\n",
       "      <td>50</td>\n",
       "      <td>normal</td>\n",
       "    </tr>\n",
       "    <tr>\n",
       "      <th>4</th>\n",
       "      <td>1:00:00 AM</td>\n",
       "      <td>10</td>\n",
       "      <td>Tuesday</td>\n",
       "      <td>11</td>\n",
       "      <td>2</td>\n",
       "      <td>1</td>\n",
       "      <td>34</td>\n",
       "      <td>48</td>\n",
       "      <td>normal</td>\n",
       "    </tr>\n",
       "  </tbody>\n",
       "</table>\n",
       "</div>"
      ],
      "text/plain": [
       "          Time  Date Day of the week  CarCount  BikeCount  BusCount  \\\n",
       "0  12:00:00 AM    10         Tuesday        13          2         2   \n",
       "1  12:15:00 AM    10         Tuesday        14          1         1   \n",
       "2  12:30:00 AM    10         Tuesday        10          2         2   \n",
       "3  12:45:00 AM    10         Tuesday        10          2         2   \n",
       "4   1:00:00 AM    10         Tuesday        11          2         1   \n",
       "\n",
       "   TruckCount  Total Traffic Situation  \n",
       "0          24     41            normal  \n",
       "1          36     52            normal  \n",
       "2          32     46            normal  \n",
       "3          36     50            normal  \n",
       "4          34     48            normal  "
      ]
     },
     "execution_count": 4,
     "metadata": {},
     "output_type": "execute_result"
    }
   ],
   "source": [
    "import pandas as pd\n",
    "\n",
    "# first I am loading the data\n",
    "\n",
    "trafficData = pd.read_csv(\"TrafficTwoMonth.csv\")\n",
    "# after loading the data I am going to familiarize with the data\n",
    "print(\"Calling the head() method on the traffic data:\\n\")\n",
    "trafficData.head()"
   ]
  },
  {
   "cell_type": "markdown",
   "metadata": {},
   "source": [
    "From this we see that data contains 9 columns."
   ]
  },
  {
   "cell_type": "code",
   "execution_count": 5,
   "metadata": {},
   "outputs": [
    {
     "name": "stdout",
     "output_type": "stream",
     "text": [
      "Printing the data information:\n",
      "\n",
      "<class 'pandas.core.frame.DataFrame'>\n",
      "RangeIndex: 5952 entries, 0 to 5951\n",
      "Data columns (total 9 columns):\n",
      " #   Column             Non-Null Count  Dtype \n",
      "---  ------             --------------  ----- \n",
      " 0   Time               5952 non-null   object\n",
      " 1   Date               5952 non-null   int64 \n",
      " 2   Day of the week    5952 non-null   object\n",
      " 3   CarCount           5952 non-null   int64 \n",
      " 4   BikeCount          5952 non-null   int64 \n",
      " 5   BusCount           5952 non-null   int64 \n",
      " 6   TruckCount         5952 non-null   int64 \n",
      " 7   Total              5952 non-null   int64 \n",
      " 8   Traffic Situation  5952 non-null   object\n",
      "dtypes: int64(6), object(3)\n",
      "memory usage: 418.6+ KB\n",
      "None\n"
     ]
    }
   ],
   "source": [
    "# to obtain more information on data: \n",
    "print(\"Printing the data information:\\n\")\n",
    "print(trafficData.info())"
   ]
  },
  {
   "cell_type": "markdown",
   "metadata": {},
   "source": [
    "From the above displayed information we understand that the traffic data contains 9 columns and 5952 rows. There are no null values in any of the cells. The data types for each column (feature) are 3 objects and 6 integers."
   ]
  },
  {
   "cell_type": "code",
   "execution_count": 6,
   "metadata": {},
   "outputs": [
    {
     "name": "stdout",
     "output_type": "stream",
     "text": [
      "Printing the data description:\n",
      "\n",
      "              Date     CarCount    BikeCount     BusCount   TruckCount  \\\n",
      "count  5952.000000  5952.000000  5952.000000  5952.000000  5952.000000   \n",
      "mean     16.000000    65.440692    12.161458    12.912970    18.646337   \n",
      "std       8.945023    44.749335    11.537944    12.497736    10.973139   \n",
      "min       1.000000     5.000000     0.000000     0.000000     0.000000   \n",
      "25%       8.000000    18.750000     3.000000     2.000000    10.000000   \n",
      "50%      16.000000    62.000000     9.000000    10.000000    18.000000   \n",
      "75%      24.000000   103.000000    19.000000    20.000000    27.000000   \n",
      "max      31.000000   180.000000    70.000000    50.000000    60.000000   \n",
      "\n",
      "             Total  \n",
      "count  5952.000000  \n",
      "mean    109.161458  \n",
      "std      55.996312  \n",
      "min      21.000000  \n",
      "25%      54.000000  \n",
      "50%     104.000000  \n",
      "75%     153.000000  \n",
      "max     279.000000  \n"
     ]
    }
   ],
   "source": [
    "# to obtain even further information I will be using the describe() method for traffic data\n",
    "\n",
    "print(\"Printing the data description:\\n\")\n",
    "print(trafficData.describe())"
   ]
  },
  {
   "cell_type": "markdown",
   "metadata": {},
   "source": [
    "Next I am visualizing the data to obtain a deeper understanding of it and possibly detecting any patterns"
   ]
  },
  {
   "cell_type": "code",
   "execution_count": 7,
   "metadata": {},
   "outputs": [
    {
     "data": {
      "text/plain": [
       "Text(0, 0.5, 'Total nr of vehicles')"
      ]
     },
     "execution_count": 7,
     "metadata": {},
     "output_type": "execute_result"
    },
    {
     "data": {
      "image/png": "[encoded data removed]",
      "text/plain": [
       "<Figure size 640x480 with 1 Axes>"
      ]
     },
     "metadata": {},
     "output_type": "display_data"
    }
   ],
   "source": [
    "# how does the total nr of vehicles affect traffic\n",
    "\n",
    "from matplotlib import pyplot as plt\n",
    "\n",
    "plt.scatter(trafficData.iloc[:,-1],trafficData.iloc[:,-2])\n",
    "plt.xlabel(\"Traffic situation\")\n",
    "plt.ylabel(\"Total nr of vehicles\")\n"
   ]
  },
  {
   "cell_type": "code",
   "execution_count": 8,
   "metadata": {},
   "outputs": [
    {
     "data": {
      "text/plain": [
       "Text(0, 0.5, 'Total nr of cars')"
      ]
     },
     "execution_count": 8,
     "metadata": {},
     "output_type": "execute_result"
    },
    {
     "data": {
      "image/png": "[encoded data removed]",
      "text/plain": [
       "<Figure size 640x480 with 1 Axes>"
      ]
     },
     "metadata": {},
     "output_type": "display_data"
    }
   ],
   "source": [
    "# how does the nr of cars affect traffic\n",
    "\n",
    "from matplotlib import pyplot as plt\n",
    "\n",
    "plt.scatter(trafficData.iloc[:,-1],trafficData.iloc[:,1])\n",
    "plt.xlabel(\"Traffic situation\")\n",
    "plt.ylabel(\"Total nr of cars\")"
   ]
  },
  {
   "cell_type": "code",
   "execution_count": 9,
   "metadata": {},
   "outputs": [
    {
     "data": {
      "text/plain": [
       "Text(0, 0.5, 'Total nr of bikes')"
      ]
     },
     "execution_count": 9,
     "metadata": {},
     "output_type": "execute_result"
    },
    {
     "data": {
      "image/png": "[encoded data removed]",
      "text/plain": [
       "<Figure size 640x480 with 1 Axes>"
      ]
     },
     "metadata": {},
     "output_type": "display_data"
    }
   ],
   "source": [
    "# how does the nr of bikes affect traffic\n",
    "\n",
    "from matplotlib import pyplot as plt\n",
    "\n",
    "plt.scatter(trafficData.iloc[:,-1],trafficData.iloc[:,2])\n",
    "plt.xlabel(\"Traffic situation\")\n",
    "plt.ylabel(\"Total nr of bikes\")"
   ]
  },
  {
   "cell_type": "code",
   "execution_count": 10,
   "metadata": {},
   "outputs": [
    {
     "data": {
      "text/plain": [
       "Text(0, 0.5, 'Total nr of buses')"
      ]
     },
     "execution_count": 10,
     "metadata": {},
     "output_type": "execute_result"
    },
    {
     "data": {
      "image/png": "[encoded data removed]",
      "text/plain": [
       "<Figure size 640x480 with 1 Axes>"
      ]
     },
     "metadata": {},
     "output_type": "display_data"
    }
   ],
   "source": [
    "# how does the nr of buses affect traffic\n",
    "\n",
    "from matplotlib import pyplot as plt\n",
    "\n",
    "plt.scatter(trafficData.iloc[:,-1],trafficData.iloc[:,3])\n",
    "plt.xlabel(\"Traffic situation\")\n",
    "plt.ylabel(\"Total nr of buses\")"
   ]
  },
  {
   "cell_type": "code",
   "execution_count": 11,
   "metadata": {},
   "outputs": [
    {
     "data": {
      "text/plain": [
       "Text(0, 0.5, 'Total nr of trucks')"
      ]
     },
     "execution_count": 11,
     "metadata": {},
     "output_type": "execute_result"
    },
    {
     "data": {
      "image/png": "[encoded data removed]",
      "text/plain": [
       "<Figure size 640x480 with 1 Axes>"
      ]
     },
     "metadata": {},
     "output_type": "display_data"
    }
   ],
   "source": [
    "# how does the nr of trucks affect traffic\n",
    "\n",
    "from matplotlib import pyplot as plt\n",
    "\n",
    "plt.scatter(trafficData.iloc[:,-1],trafficData.iloc[:,4])\n",
    "plt.xlabel(\"Traffic situation\")\n",
    "plt.ylabel(\"Total nr of trucks\")"
   ]
  },
  {
   "cell_type": "code",
   "execution_count": 12,
   "metadata": {},
   "outputs": [
    {
     "name": "stderr",
     "output_type": "stream",
     "text": [
      "/var/folders/p6/cqrq1pln5m7_p59dpvj1s5pr0000gn/T/ipykernel_20088/760646362.py:2: UserWarning: Could not infer format, so each element will be parsed individually, falling back to `dateutil`. To ensure parsing is consistent and as-expected, please specify a format.\n",
      "  trafficData['Hour'] = pd.to_datetime(trafficData['Time']).dt.hour\n",
      "/var/folders/p6/cqrq1pln5m7_p59dpvj1s5pr0000gn/T/ipykernel_20088/760646362.py:3: UserWarning: Could not infer format, so each element will be parsed individually, falling back to `dateutil`. To ensure parsing is consistent and as-expected, please specify a format.\n",
      "  trafficData['Minute'] = pd.to_datetime(trafficData['Time']).dt.minute\n"
     ]
    },
    {
     "data": {
      "text/html": [
       "<div>\n",
       "<style scoped>\n",
       "    .dataframe tbody tr th:only-of-type {\n",
       "        vertical-align: middle;\n",
       "    }\n",
       "\n",
       "    .dataframe tbody tr th {\n",
       "        vertical-align: top;\n",
       "    }\n",
       "\n",
       "    .dataframe thead th {\n",
       "        text-align: right;\n",
       "    }\n",
       "</style>\n",
       "<table border=\"1\" class=\"dataframe\">\n",
       "  <thead>\n",
       "    <tr style=\"text-align: right;\">\n",
       "      <th></th>\n",
       "      <th>Date</th>\n",
       "      <th>Day of the week</th>\n",
       "      <th>CarCount</th>\n",
       "      <th>BikeCount</th>\n",
       "      <th>BusCount</th>\n",
       "      <th>TruckCount</th>\n",
       "      <th>Total</th>\n",
       "      <th>Traffic Situation</th>\n",
       "      <th>Hour</th>\n",
       "      <th>Minute</th>\n",
       "      <th>AM/PM</th>\n",
       "    </tr>\n",
       "  </thead>\n",
       "  <tbody>\n",
       "    <tr>\n",
       "      <th>0</th>\n",
       "      <td>10</td>\n",
       "      <td>Tuesday</td>\n",
       "      <td>13</td>\n",
       "      <td>2</td>\n",
       "      <td>2</td>\n",
       "      <td>24</td>\n",
       "      <td>41</td>\n",
       "      <td>normal</td>\n",
       "      <td>0</td>\n",
       "      <td>0</td>\n",
       "      <td>0</td>\n",
       "    </tr>\n",
       "    <tr>\n",
       "      <th>1</th>\n",
       "      <td>10</td>\n",
       "      <td>Tuesday</td>\n",
       "      <td>14</td>\n",
       "      <td>1</td>\n",
       "      <td>1</td>\n",
       "      <td>36</td>\n",
       "      <td>52</td>\n",
       "      <td>normal</td>\n",
       "      <td>0</td>\n",
       "      <td>15</td>\n",
       "      <td>0</td>\n",
       "    </tr>\n",
       "    <tr>\n",
       "      <th>2</th>\n",
       "      <td>10</td>\n",
       "      <td>Tuesday</td>\n",
       "      <td>10</td>\n",
       "      <td>2</td>\n",
       "      <td>2</td>\n",
       "      <td>32</td>\n",
       "      <td>46</td>\n",
       "      <td>normal</td>\n",
       "      <td>0</td>\n",
       "      <td>30</td>\n",
       "      <td>0</td>\n",
       "    </tr>\n",
       "    <tr>\n",
       "      <th>3</th>\n",
       "      <td>10</td>\n",
       "      <td>Tuesday</td>\n",
       "      <td>10</td>\n",
       "      <td>2</td>\n",
       "      <td>2</td>\n",
       "      <td>36</td>\n",
       "      <td>50</td>\n",
       "      <td>normal</td>\n",
       "      <td>0</td>\n",
       "      <td>45</td>\n",
       "      <td>0</td>\n",
       "    </tr>\n",
       "    <tr>\n",
       "      <th>4</th>\n",
       "      <td>10</td>\n",
       "      <td>Tuesday</td>\n",
       "      <td>11</td>\n",
       "      <td>2</td>\n",
       "      <td>1</td>\n",
       "      <td>34</td>\n",
       "      <td>48</td>\n",
       "      <td>normal</td>\n",
       "      <td>1</td>\n",
       "      <td>0</td>\n",
       "      <td>0</td>\n",
       "    </tr>\n",
       "  </tbody>\n",
       "</table>\n",
       "</div>"
      ],
      "text/plain": [
       "   Date Day of the week  CarCount  BikeCount  BusCount  TruckCount  Total  \\\n",
       "0    10         Tuesday        13          2         2          24     41   \n",
       "1    10         Tuesday        14          1         1          36     52   \n",
       "2    10         Tuesday        10          2         2          32     46   \n",
       "3    10         Tuesday        10          2         2          36     50   \n",
       "4    10         Tuesday        11          2         1          34     48   \n",
       "\n",
       "  Traffic Situation  Hour  Minute  AM/PM  \n",
       "0            normal     0       0      0  \n",
       "1            normal     0      15      0  \n",
       "2            normal     0      30      0  \n",
       "3            normal     0      45      0  \n",
       "4            normal     1       0      0  "
      ]
     },
     "execution_count": 12,
     "metadata": {},
     "output_type": "execute_result"
    }
   ],
   "source": [
    "# in order for the time column to be more meaningful I am going to convert it into hour, minute and am/pm\n",
    "trafficData['Hour'] = pd.to_datetime(trafficData['Time']).dt.hour\n",
    "trafficData['Minute'] = pd.to_datetime(trafficData['Time']).dt.minute\n",
    "\n",
    "trafficData['AM/PM'] = trafficData['Time'].apply(lambda x:x.split(' ')[1])\n",
    "trafficData['AM/PM'] = trafficData['AM/PM'].replace({\"AM\":0,\"PM\":1})\n",
    "\n",
    "\n",
    "trafficData = trafficData.drop(columns=['Time'], axis=1)\n",
    "trafficData.head()\n"
   ]
  },
  {
   "cell_type": "code",
   "execution_count": 13,
   "metadata": {},
   "outputs": [
    {
     "data": {
      "text/html": [
       "<div>\n",
       "<style scoped>\n",
       "    .dataframe tbody tr th:only-of-type {\n",
       "        vertical-align: middle;\n",
       "    }\n",
       "\n",
       "    .dataframe tbody tr th {\n",
       "        vertical-align: top;\n",
       "    }\n",
       "\n",
       "    .dataframe thead th {\n",
       "        text-align: right;\n",
       "    }\n",
       "</style>\n",
       "<table border=\"1\" class=\"dataframe\">\n",
       "  <thead>\n",
       "    <tr style=\"text-align: right;\">\n",
       "      <th></th>\n",
       "      <th>Date</th>\n",
       "      <th>Day of the week</th>\n",
       "      <th>CarCount</th>\n",
       "      <th>BikeCount</th>\n",
       "      <th>BusCount</th>\n",
       "      <th>TruckCount</th>\n",
       "      <th>Total</th>\n",
       "      <th>Traffic Situation</th>\n",
       "      <th>Hour</th>\n",
       "      <th>Minute</th>\n",
       "      <th>AM/PM</th>\n",
       "    </tr>\n",
       "  </thead>\n",
       "  <tbody>\n",
       "    <tr>\n",
       "      <th>0</th>\n",
       "      <td>10</td>\n",
       "      <td>2</td>\n",
       "      <td>13</td>\n",
       "      <td>2</td>\n",
       "      <td>2</td>\n",
       "      <td>24</td>\n",
       "      <td>41</td>\n",
       "      <td>normal</td>\n",
       "      <td>0</td>\n",
       "      <td>0</td>\n",
       "      <td>0</td>\n",
       "    </tr>\n",
       "    <tr>\n",
       "      <th>1</th>\n",
       "      <td>10</td>\n",
       "      <td>2</td>\n",
       "      <td>14</td>\n",
       "      <td>1</td>\n",
       "      <td>1</td>\n",
       "      <td>36</td>\n",
       "      <td>52</td>\n",
       "      <td>normal</td>\n",
       "      <td>0</td>\n",
       "      <td>15</td>\n",
       "      <td>0</td>\n",
       "    </tr>\n",
       "    <tr>\n",
       "      <th>2</th>\n",
       "      <td>10</td>\n",
       "      <td>2</td>\n",
       "      <td>10</td>\n",
       "      <td>2</td>\n",
       "      <td>2</td>\n",
       "      <td>32</td>\n",
       "      <td>46</td>\n",
       "      <td>normal</td>\n",
       "      <td>0</td>\n",
       "      <td>30</td>\n",
       "      <td>0</td>\n",
       "    </tr>\n",
       "    <tr>\n",
       "      <th>3</th>\n",
       "      <td>10</td>\n",
       "      <td>2</td>\n",
       "      <td>10</td>\n",
       "      <td>2</td>\n",
       "      <td>2</td>\n",
       "      <td>36</td>\n",
       "      <td>50</td>\n",
       "      <td>normal</td>\n",
       "      <td>0</td>\n",
       "      <td>45</td>\n",
       "      <td>0</td>\n",
       "    </tr>\n",
       "    <tr>\n",
       "      <th>4</th>\n",
       "      <td>10</td>\n",
       "      <td>2</td>\n",
       "      <td>11</td>\n",
       "      <td>2</td>\n",
       "      <td>1</td>\n",
       "      <td>34</td>\n",
       "      <td>48</td>\n",
       "      <td>normal</td>\n",
       "      <td>1</td>\n",
       "      <td>0</td>\n",
       "      <td>0</td>\n",
       "    </tr>\n",
       "  </tbody>\n",
       "</table>\n",
       "</div>"
      ],
      "text/plain": [
       "   Date  Day of the week  CarCount  BikeCount  BusCount  TruckCount  Total  \\\n",
       "0    10                2        13          2         2          24     41   \n",
       "1    10                2        14          1         1          36     52   \n",
       "2    10                2        10          2         2          32     46   \n",
       "3    10                2        10          2         2          36     50   \n",
       "4    10                2        11          2         1          34     48   \n",
       "\n",
       "  Traffic Situation  Hour  Minute  AM/PM  \n",
       "0            normal     0       0      0  \n",
       "1            normal     0      15      0  \n",
       "2            normal     0      30      0  \n",
       "3            normal     0      45      0  \n",
       "4            normal     1       0      0  "
      ]
     },
     "execution_count": 13,
     "metadata": {},
     "output_type": "execute_result"
    }
   ],
   "source": [
    "# in order to work with numbers now I will be replacing the days of the week with their corresponding order numbers\n",
    "trafficData['Day of the week'] = trafficData['Day of the week'].replace({\"Monday\":1,\n",
    "                                        \"Tuesday\":2,\n",
    "                                        \"Wednesday\":3,\n",
    "                                        \"Thursday\":4,\n",
    "                                        \"Friday\":5,\n",
    "                                        \"Saturday\":6,\n",
    "                                        \"Sunday\":7})\n",
    "trafficData.head()"
   ]
  },
  {
   "cell_type": "code",
   "execution_count": 14,
   "metadata": {},
   "outputs": [
    {
     "data": {
      "text/html": [
       "<div>\n",
       "<style scoped>\n",
       "    .dataframe tbody tr th:only-of-type {\n",
       "        vertical-align: middle;\n",
       "    }\n",
       "\n",
       "    .dataframe tbody tr th {\n",
       "        vertical-align: top;\n",
       "    }\n",
       "\n",
       "    .dataframe thead th {\n",
       "        text-align: right;\n",
       "    }\n",
       "</style>\n",
       "<table border=\"1\" class=\"dataframe\">\n",
       "  <thead>\n",
       "    <tr style=\"text-align: right;\">\n",
       "      <th></th>\n",
       "      <th>Date</th>\n",
       "      <th>Day of the week</th>\n",
       "      <th>CarCount</th>\n",
       "      <th>BikeCount</th>\n",
       "      <th>BusCount</th>\n",
       "      <th>TruckCount</th>\n",
       "      <th>Total</th>\n",
       "      <th>Traffic Situation</th>\n",
       "      <th>Hour</th>\n",
       "      <th>Minute</th>\n",
       "      <th>AM/PM</th>\n",
       "    </tr>\n",
       "  </thead>\n",
       "  <tbody>\n",
       "    <tr>\n",
       "      <th>0</th>\n",
       "      <td>10</td>\n",
       "      <td>2</td>\n",
       "      <td>13</td>\n",
       "      <td>2</td>\n",
       "      <td>2</td>\n",
       "      <td>24</td>\n",
       "      <td>41</td>\n",
       "      <td>1</td>\n",
       "      <td>0</td>\n",
       "      <td>0</td>\n",
       "      <td>0</td>\n",
       "    </tr>\n",
       "    <tr>\n",
       "      <th>1</th>\n",
       "      <td>10</td>\n",
       "      <td>2</td>\n",
       "      <td>14</td>\n",
       "      <td>1</td>\n",
       "      <td>1</td>\n",
       "      <td>36</td>\n",
       "      <td>52</td>\n",
       "      <td>1</td>\n",
       "      <td>0</td>\n",
       "      <td>15</td>\n",
       "      <td>0</td>\n",
       "    </tr>\n",
       "    <tr>\n",
       "      <th>2</th>\n",
       "      <td>10</td>\n",
       "      <td>2</td>\n",
       "      <td>10</td>\n",
       "      <td>2</td>\n",
       "      <td>2</td>\n",
       "      <td>32</td>\n",
       "      <td>46</td>\n",
       "      <td>1</td>\n",
       "      <td>0</td>\n",
       "      <td>30</td>\n",
       "      <td>0</td>\n",
       "    </tr>\n",
       "    <tr>\n",
       "      <th>3</th>\n",
       "      <td>10</td>\n",
       "      <td>2</td>\n",
       "      <td>10</td>\n",
       "      <td>2</td>\n",
       "      <td>2</td>\n",
       "      <td>36</td>\n",
       "      <td>50</td>\n",
       "      <td>1</td>\n",
       "      <td>0</td>\n",
       "      <td>45</td>\n",
       "      <td>0</td>\n",
       "    </tr>\n",
       "    <tr>\n",
       "      <th>4</th>\n",
       "      <td>10</td>\n",
       "      <td>2</td>\n",
       "      <td>11</td>\n",
       "      <td>2</td>\n",
       "      <td>1</td>\n",
       "      <td>34</td>\n",
       "      <td>48</td>\n",
       "      <td>1</td>\n",
       "      <td>1</td>\n",
       "      <td>0</td>\n",
       "      <td>0</td>\n",
       "    </tr>\n",
       "  </tbody>\n",
       "</table>\n",
       "</div>"
      ],
      "text/plain": [
       "   Date  Day of the week  CarCount  BikeCount  BusCount  TruckCount  Total  \\\n",
       "0    10                2        13          2         2          24     41   \n",
       "1    10                2        14          1         1          36     52   \n",
       "2    10                2        10          2         2          32     46   \n",
       "3    10                2        10          2         2          36     50   \n",
       "4    10                2        11          2         1          34     48   \n",
       "\n",
       "   Traffic Situation  Hour  Minute  AM/PM  \n",
       "0                  1     0       0      0  \n",
       "1                  1     0      15      0  \n",
       "2                  1     0      30      0  \n",
       "3                  1     0      45      0  \n",
       "4                  1     1       0      0  "
      ]
     },
     "execution_count": 14,
     "metadata": {},
     "output_type": "execute_result"
    }
   ],
   "source": [
    "# now converting the traffic situations into numbers\n",
    "\n",
    "trafficData['Traffic Situation'] = trafficData['Traffic Situation'].replace({\"low\":0,\n",
    "                                                                             \"normal\":1,\n",
    "                                                                             \"high\":2,\n",
    "                                                                             \"heavy\":3})\n",
    "trafficData.head()"
   ]
  },
  {
   "cell_type": "code",
   "execution_count": 15,
   "metadata": {},
   "outputs": [
    {
     "data": {
      "text/html": [
       "<div>\n",
       "<style scoped>\n",
       "    .dataframe tbody tr th:only-of-type {\n",
       "        vertical-align: middle;\n",
       "    }\n",
       "\n",
       "    .dataframe tbody tr th {\n",
       "        vertical-align: top;\n",
       "    }\n",
       "\n",
       "    .dataframe thead th {\n",
       "        text-align: right;\n",
       "    }\n",
       "</style>\n",
       "<table border=\"1\" class=\"dataframe\">\n",
       "  <thead>\n",
       "    <tr style=\"text-align: right;\">\n",
       "      <th></th>\n",
       "      <th>Date</th>\n",
       "      <th>Day of the week</th>\n",
       "      <th>CarCount</th>\n",
       "      <th>BikeCount</th>\n",
       "      <th>BusCount</th>\n",
       "      <th>TruckCount</th>\n",
       "      <th>Total</th>\n",
       "      <th>Hour</th>\n",
       "      <th>Minute</th>\n",
       "      <th>AM/PM</th>\n",
       "    </tr>\n",
       "  </thead>\n",
       "  <tbody>\n",
       "    <tr>\n",
       "      <th>0</th>\n",
       "      <td>10</td>\n",
       "      <td>2</td>\n",
       "      <td>13</td>\n",
       "      <td>2</td>\n",
       "      <td>2</td>\n",
       "      <td>24</td>\n",
       "      <td>41</td>\n",
       "      <td>0</td>\n",
       "      <td>0</td>\n",
       "      <td>0</td>\n",
       "    </tr>\n",
       "    <tr>\n",
       "      <th>1</th>\n",
       "      <td>10</td>\n",
       "      <td>2</td>\n",
       "      <td>14</td>\n",
       "      <td>1</td>\n",
       "      <td>1</td>\n",
       "      <td>36</td>\n",
       "      <td>52</td>\n",
       "      <td>0</td>\n",
       "      <td>15</td>\n",
       "      <td>0</td>\n",
       "    </tr>\n",
       "    <tr>\n",
       "      <th>2</th>\n",
       "      <td>10</td>\n",
       "      <td>2</td>\n",
       "      <td>10</td>\n",
       "      <td>2</td>\n",
       "      <td>2</td>\n",
       "      <td>32</td>\n",
       "      <td>46</td>\n",
       "      <td>0</td>\n",
       "      <td>30</td>\n",
       "      <td>0</td>\n",
       "    </tr>\n",
       "    <tr>\n",
       "      <th>3</th>\n",
       "      <td>10</td>\n",
       "      <td>2</td>\n",
       "      <td>10</td>\n",
       "      <td>2</td>\n",
       "      <td>2</td>\n",
       "      <td>36</td>\n",
       "      <td>50</td>\n",
       "      <td>0</td>\n",
       "      <td>45</td>\n",
       "      <td>0</td>\n",
       "    </tr>\n",
       "    <tr>\n",
       "      <th>4</th>\n",
       "      <td>10</td>\n",
       "      <td>2</td>\n",
       "      <td>11</td>\n",
       "      <td>2</td>\n",
       "      <td>1</td>\n",
       "      <td>34</td>\n",
       "      <td>48</td>\n",
       "      <td>1</td>\n",
       "      <td>0</td>\n",
       "      <td>0</td>\n",
       "    </tr>\n",
       "    <tr>\n",
       "      <th>...</th>\n",
       "      <td>...</td>\n",
       "      <td>...</td>\n",
       "      <td>...</td>\n",
       "      <td>...</td>\n",
       "      <td>...</td>\n",
       "      <td>...</td>\n",
       "      <td>...</td>\n",
       "      <td>...</td>\n",
       "      <td>...</td>\n",
       "      <td>...</td>\n",
       "    </tr>\n",
       "    <tr>\n",
       "      <th>5947</th>\n",
       "      <td>9</td>\n",
       "      <td>4</td>\n",
       "      <td>16</td>\n",
       "      <td>3</td>\n",
       "      <td>1</td>\n",
       "      <td>36</td>\n",
       "      <td>56</td>\n",
       "      <td>22</td>\n",
       "      <td>45</td>\n",
       "      <td>1</td>\n",
       "    </tr>\n",
       "    <tr>\n",
       "      <th>5948</th>\n",
       "      <td>9</td>\n",
       "      <td>4</td>\n",
       "      <td>11</td>\n",
       "      <td>0</td>\n",
       "      <td>1</td>\n",
       "      <td>30</td>\n",
       "      <td>42</td>\n",
       "      <td>23</td>\n",
       "      <td>0</td>\n",
       "      <td>1</td>\n",
       "    </tr>\n",
       "    <tr>\n",
       "      <th>5949</th>\n",
       "      <td>9</td>\n",
       "      <td>4</td>\n",
       "      <td>15</td>\n",
       "      <td>4</td>\n",
       "      <td>1</td>\n",
       "      <td>25</td>\n",
       "      <td>45</td>\n",
       "      <td>23</td>\n",
       "      <td>15</td>\n",
       "      <td>1</td>\n",
       "    </tr>\n",
       "    <tr>\n",
       "      <th>5950</th>\n",
       "      <td>9</td>\n",
       "      <td>4</td>\n",
       "      <td>16</td>\n",
       "      <td>5</td>\n",
       "      <td>0</td>\n",
       "      <td>27</td>\n",
       "      <td>48</td>\n",
       "      <td>23</td>\n",
       "      <td>30</td>\n",
       "      <td>1</td>\n",
       "    </tr>\n",
       "    <tr>\n",
       "      <th>5951</th>\n",
       "      <td>9</td>\n",
       "      <td>4</td>\n",
       "      <td>14</td>\n",
       "      <td>3</td>\n",
       "      <td>1</td>\n",
       "      <td>15</td>\n",
       "      <td>33</td>\n",
       "      <td>23</td>\n",
       "      <td>45</td>\n",
       "      <td>1</td>\n",
       "    </tr>\n",
       "  </tbody>\n",
       "</table>\n",
       "<p>5952 rows × 10 columns</p>\n",
       "</div>"
      ],
      "text/plain": [
       "      Date  Day of the week  CarCount  BikeCount  BusCount  TruckCount  Total  \\\n",
       "0       10                2        13          2         2          24     41   \n",
       "1       10                2        14          1         1          36     52   \n",
       "2       10                2        10          2         2          32     46   \n",
       "3       10                2        10          2         2          36     50   \n",
       "4       10                2        11          2         1          34     48   \n",
       "...    ...              ...       ...        ...       ...         ...    ...   \n",
       "5947     9                4        16          3         1          36     56   \n",
       "5948     9                4        11          0         1          30     42   \n",
       "5949     9                4        15          4         1          25     45   \n",
       "5950     9                4        16          5         0          27     48   \n",
       "5951     9                4        14          3         1          15     33   \n",
       "\n",
       "      Hour  Minute  AM/PM  \n",
       "0        0       0      0  \n",
       "1        0      15      0  \n",
       "2        0      30      0  \n",
       "3        0      45      0  \n",
       "4        1       0      0  \n",
       "...    ...     ...    ...  \n",
       "5947    22      45      1  \n",
       "5948    23       0      1  \n",
       "5949    23      15      1  \n",
       "5950    23      30      1  \n",
       "5951    23      45      1  \n",
       "\n",
       "[5952 rows x 10 columns]"
      ]
     },
     "execution_count": 15,
     "metadata": {},
     "output_type": "execute_result"
    }
   ],
   "source": [
    "# extracting the target column, which will be the traffic situation\n",
    "\n",
    "features = pd.concat( [trafficData.iloc[:,:7], trafficData.iloc[:,8:]], axis=1)\n",
    "target = trafficData['Traffic Situation']\n",
    "features"
   ]
  },
  {
   "cell_type": "code",
   "execution_count": 16,
   "metadata": {},
   "outputs": [
    {
     "data": {
      "text/plain": [
       "Text(0.5, 1.0, 'Not normalized data')"
      ]
     },
     "execution_count": 16,
     "metadata": {},
     "output_type": "execute_result"
    },
    {
     "data": {
      "image/png": "[encoded data removed]",
      "text/plain": [
       "<Figure size 640x480 with 1 Axes>"
      ]
     },
     "metadata": {},
     "output_type": "display_data"
    }
   ],
   "source": [
    "# now visualizing the data after applying dimensionality reduction to it not normalized\n",
    "\n",
    "from sklearn.decomposition import PCA\n",
    "\n",
    "pca = PCA(n_components=2).fit(features)\n",
    "\n",
    "pca_2dd = pca.transform(features)\n",
    "\n",
    "plt.scatter(pca_2dd[:100,0], pca_2dd[:100,1],c = target[:100])\n",
    "plt.xlabel('Principal Component 1')\n",
    "plt.ylabel('Principal Component 2')\n",
    "plt.title(\"Not normalized data\")\n"
   ]
  },
  {
   "cell_type": "code",
   "execution_count": 17,
   "metadata": {},
   "outputs": [
    {
     "data": {
      "text/plain": [
       "Text(0.5, 1.0, 'Not normalized data')"
      ]
     },
     "execution_count": 17,
     "metadata": {},
     "output_type": "execute_result"
    },
    {
     "data": {
      "image/png": "[encoded data removed]",
      "text/plain": [
       "<Figure size 640x480 with 1 Axes>"
      ]
     },
     "metadata": {},
     "output_type": "display_data"
    }
   ],
   "source": [
    "plt.scatter(pca_2dd[:,0], pca_2dd[:,1],c = target[:,])\n",
    "plt.xlabel('Principal Component 1')\n",
    "plt.ylabel('Principal Component 2')\n",
    "plt.title(\"Not normalized data\")"
   ]
  },
  {
   "cell_type": "markdown",
   "metadata": {},
   "source": [
    "Next step is data normalization. I will apply several normalization techniques and at the end decide which produced the best result."
   ]
  },
  {
   "cell_type": "code",
   "execution_count": 18,
   "metadata": {},
   "outputs": [
    {
     "data": {
      "text/html": [
       "<div>\n",
       "<style scoped>\n",
       "    .dataframe tbody tr th:only-of-type {\n",
       "        vertical-align: middle;\n",
       "    }\n",
       "\n",
       "    .dataframe tbody tr th {\n",
       "        vertical-align: top;\n",
       "    }\n",
       "\n",
       "    .dataframe thead th {\n",
       "        text-align: right;\n",
       "    }\n",
       "</style>\n",
       "<table border=\"1\" class=\"dataframe\">\n",
       "  <thead>\n",
       "    <tr style=\"text-align: right;\">\n",
       "      <th></th>\n",
       "      <th>Date</th>\n",
       "      <th>Day of the week</th>\n",
       "      <th>CarCount</th>\n",
       "      <th>BikeCount</th>\n",
       "      <th>BusCount</th>\n",
       "      <th>TruckCount</th>\n",
       "      <th>Total</th>\n",
       "      <th>Hour</th>\n",
       "      <th>Minute</th>\n",
       "      <th>AM/PM</th>\n",
       "    </tr>\n",
       "  </thead>\n",
       "  <tbody>\n",
       "    <tr>\n",
       "      <th>0</th>\n",
       "      <td>0.300000</td>\n",
       "      <td>0.166667</td>\n",
       "      <td>0.045714</td>\n",
       "      <td>0.028571</td>\n",
       "      <td>0.04</td>\n",
       "      <td>0.400000</td>\n",
       "      <td>0.077519</td>\n",
       "      <td>0.000000</td>\n",
       "      <td>0.000000</td>\n",
       "      <td>0.0</td>\n",
       "    </tr>\n",
       "    <tr>\n",
       "      <th>1</th>\n",
       "      <td>0.300000</td>\n",
       "      <td>0.166667</td>\n",
       "      <td>0.051429</td>\n",
       "      <td>0.014286</td>\n",
       "      <td>0.02</td>\n",
       "      <td>0.600000</td>\n",
       "      <td>0.120155</td>\n",
       "      <td>0.000000</td>\n",
       "      <td>0.333333</td>\n",
       "      <td>0.0</td>\n",
       "    </tr>\n",
       "    <tr>\n",
       "      <th>2</th>\n",
       "      <td>0.300000</td>\n",
       "      <td>0.166667</td>\n",
       "      <td>0.028571</td>\n",
       "      <td>0.028571</td>\n",
       "      <td>0.04</td>\n",
       "      <td>0.533333</td>\n",
       "      <td>0.096899</td>\n",
       "      <td>0.000000</td>\n",
       "      <td>0.666667</td>\n",
       "      <td>0.0</td>\n",
       "    </tr>\n",
       "    <tr>\n",
       "      <th>3</th>\n",
       "      <td>0.300000</td>\n",
       "      <td>0.166667</td>\n",
       "      <td>0.028571</td>\n",
       "      <td>0.028571</td>\n",
       "      <td>0.04</td>\n",
       "      <td>0.600000</td>\n",
       "      <td>0.112403</td>\n",
       "      <td>0.000000</td>\n",
       "      <td>1.000000</td>\n",
       "      <td>0.0</td>\n",
       "    </tr>\n",
       "    <tr>\n",
       "      <th>4</th>\n",
       "      <td>0.300000</td>\n",
       "      <td>0.166667</td>\n",
       "      <td>0.034286</td>\n",
       "      <td>0.028571</td>\n",
       "      <td>0.02</td>\n",
       "      <td>0.566667</td>\n",
       "      <td>0.104651</td>\n",
       "      <td>0.043478</td>\n",
       "      <td>0.000000</td>\n",
       "      <td>0.0</td>\n",
       "    </tr>\n",
       "    <tr>\n",
       "      <th>...</th>\n",
       "      <td>...</td>\n",
       "      <td>...</td>\n",
       "      <td>...</td>\n",
       "      <td>...</td>\n",
       "      <td>...</td>\n",
       "      <td>...</td>\n",
       "      <td>...</td>\n",
       "      <td>...</td>\n",
       "      <td>...</td>\n",
       "      <td>...</td>\n",
       "    </tr>\n",
       "    <tr>\n",
       "      <th>5947</th>\n",
       "      <td>0.266667</td>\n",
       "      <td>0.500000</td>\n",
       "      <td>0.062857</td>\n",
       "      <td>0.042857</td>\n",
       "      <td>0.02</td>\n",
       "      <td>0.600000</td>\n",
       "      <td>0.135659</td>\n",
       "      <td>0.956522</td>\n",
       "      <td>1.000000</td>\n",
       "      <td>1.0</td>\n",
       "    </tr>\n",
       "    <tr>\n",
       "      <th>5948</th>\n",
       "      <td>0.266667</td>\n",
       "      <td>0.500000</td>\n",
       "      <td>0.034286</td>\n",
       "      <td>0.000000</td>\n",
       "      <td>0.02</td>\n",
       "      <td>0.500000</td>\n",
       "      <td>0.081395</td>\n",
       "      <td>1.000000</td>\n",
       "      <td>0.000000</td>\n",
       "      <td>1.0</td>\n",
       "    </tr>\n",
       "    <tr>\n",
       "      <th>5949</th>\n",
       "      <td>0.266667</td>\n",
       "      <td>0.500000</td>\n",
       "      <td>0.057143</td>\n",
       "      <td>0.057143</td>\n",
       "      <td>0.02</td>\n",
       "      <td>0.416667</td>\n",
       "      <td>0.093023</td>\n",
       "      <td>1.000000</td>\n",
       "      <td>0.333333</td>\n",
       "      <td>1.0</td>\n",
       "    </tr>\n",
       "    <tr>\n",
       "      <th>5950</th>\n",
       "      <td>0.266667</td>\n",
       "      <td>0.500000</td>\n",
       "      <td>0.062857</td>\n",
       "      <td>0.071429</td>\n",
       "      <td>0.00</td>\n",
       "      <td>0.450000</td>\n",
       "      <td>0.104651</td>\n",
       "      <td>1.000000</td>\n",
       "      <td>0.666667</td>\n",
       "      <td>1.0</td>\n",
       "    </tr>\n",
       "    <tr>\n",
       "      <th>5951</th>\n",
       "      <td>0.266667</td>\n",
       "      <td>0.500000</td>\n",
       "      <td>0.051429</td>\n",
       "      <td>0.042857</td>\n",
       "      <td>0.02</td>\n",
       "      <td>0.250000</td>\n",
       "      <td>0.046512</td>\n",
       "      <td>1.000000</td>\n",
       "      <td>1.000000</td>\n",
       "      <td>1.0</td>\n",
       "    </tr>\n",
       "  </tbody>\n",
       "</table>\n",
       "<p>5952 rows × 10 columns</p>\n",
       "</div>"
      ],
      "text/plain": [
       "          Date  Day of the week  CarCount  BikeCount  BusCount  TruckCount  \\\n",
       "0     0.300000         0.166667  0.045714   0.028571      0.04    0.400000   \n",
       "1     0.300000         0.166667  0.051429   0.014286      0.02    0.600000   \n",
       "2     0.300000         0.166667  0.028571   0.028571      0.04    0.533333   \n",
       "3     0.300000         0.166667  0.028571   0.028571      0.04    0.600000   \n",
       "4     0.300000         0.166667  0.034286   0.028571      0.02    0.566667   \n",
       "...        ...              ...       ...        ...       ...         ...   \n",
       "5947  0.266667         0.500000  0.062857   0.042857      0.02    0.600000   \n",
       "5948  0.266667         0.500000  0.034286   0.000000      0.02    0.500000   \n",
       "5949  0.266667         0.500000  0.057143   0.057143      0.02    0.416667   \n",
       "5950  0.266667         0.500000  0.062857   0.071429      0.00    0.450000   \n",
       "5951  0.266667         0.500000  0.051429   0.042857      0.02    0.250000   \n",
       "\n",
       "         Total      Hour    Minute  AM/PM  \n",
       "0     0.077519  0.000000  0.000000    0.0  \n",
       "1     0.120155  0.000000  0.333333    0.0  \n",
       "2     0.096899  0.000000  0.666667    0.0  \n",
       "3     0.112403  0.000000  1.000000    0.0  \n",
       "4     0.104651  0.043478  0.000000    0.0  \n",
       "...        ...       ...       ...    ...  \n",
       "5947  0.135659  0.956522  1.000000    1.0  \n",
       "5948  0.081395  1.000000  0.000000    1.0  \n",
       "5949  0.093023  1.000000  0.333333    1.0  \n",
       "5950  0.104651  1.000000  0.666667    1.0  \n",
       "5951  0.046512  1.000000  1.000000    1.0  \n",
       "\n",
       "[5952 rows x 10 columns]"
      ]
     },
     "execution_count": 18,
     "metadata": {},
     "output_type": "execute_result"
    }
   ],
   "source": [
    "from sklearn import preprocessing\n",
    "# normalizing using minimax\n",
    "\n",
    "scaler = preprocessing.MinMaxScaler()\n",
    "s = scaler.fit_transform(features)\n",
    "\n",
    "features_first_normalization = pd.DataFrame(s, columns=features.columns)\n",
    "features_first_normalization"
   ]
  },
  {
   "cell_type": "code",
   "execution_count": 19,
   "metadata": {},
   "outputs": [
    {
     "data": {
      "text/plain": [
       "Text(0.5, 1.0, 'Normalized using MinMax')"
      ]
     },
     "execution_count": 19,
     "metadata": {},
     "output_type": "execute_result"
    },
    {
     "data": {
      "image/png": "[encoded data removed]",
      "text/plain": [
       "<Figure size 640x480 with 1 Axes>"
      ]
     },
     "metadata": {},
     "output_type": "display_data"
    }
   ],
   "source": [
    "# now visualizing the data after applying dimensionality reduction to it\n",
    "\n",
    "from sklearn.decomposition import PCA\n",
    "\n",
    "pca = PCA(n_components=2).fit(features_first_normalization)\n",
    "\n",
    "pca_2d = pca.transform(features_first_normalization)\n",
    "\n",
    "plt.scatter(pca_2d[:,0], pca_2d[:,1],c = target[:])\n",
    "plt.xlabel('Principal Component 1')\n",
    "plt.ylabel('Principal Component 2')\n",
    "plt.title(\"Normalized using MinMax\")\n"
   ]
  },
  {
   "cell_type": "code",
   "execution_count": 20,
   "metadata": {},
   "outputs": [
    {
     "data": {
      "text/html": [
       "<div>\n",
       "<style scoped>\n",
       "    .dataframe tbody tr th:only-of-type {\n",
       "        vertical-align: middle;\n",
       "    }\n",
       "\n",
       "    .dataframe tbody tr th {\n",
       "        vertical-align: top;\n",
       "    }\n",
       "\n",
       "    .dataframe thead th {\n",
       "        text-align: right;\n",
       "    }\n",
       "</style>\n",
       "<table border=\"1\" class=\"dataframe\">\n",
       "  <thead>\n",
       "    <tr style=\"text-align: right;\">\n",
       "      <th></th>\n",
       "      <th>Date</th>\n",
       "      <th>Day of the week</th>\n",
       "      <th>CarCount</th>\n",
       "      <th>BikeCount</th>\n",
       "      <th>BusCount</th>\n",
       "      <th>TruckCount</th>\n",
       "      <th>Total</th>\n",
       "      <th>Hour</th>\n",
       "      <th>Minute</th>\n",
       "      <th>AM/PM</th>\n",
       "    </tr>\n",
       "  </thead>\n",
       "  <tbody>\n",
       "    <tr>\n",
       "      <th>0</th>\n",
       "      <td>-0.670820</td>\n",
       "      <td>-0.980884</td>\n",
       "      <td>-1.171975</td>\n",
       "      <td>-0.880773</td>\n",
       "      <td>-0.873269</td>\n",
       "      <td>0.487929</td>\n",
       "      <td>-1.217351</td>\n",
       "      <td>-1.661325</td>\n",
       "      <td>-1.341641</td>\n",
       "      <td>-1.0</td>\n",
       "    </tr>\n",
       "    <tr>\n",
       "      <th>1</th>\n",
       "      <td>-0.670820</td>\n",
       "      <td>-0.980884</td>\n",
       "      <td>-1.149626</td>\n",
       "      <td>-0.967451</td>\n",
       "      <td>-0.953290</td>\n",
       "      <td>1.581600</td>\n",
       "      <td>-1.020893</td>\n",
       "      <td>-1.661325</td>\n",
       "      <td>-0.447214</td>\n",
       "      <td>-1.0</td>\n",
       "    </tr>\n",
       "    <tr>\n",
       "      <th>2</th>\n",
       "      <td>-0.670820</td>\n",
       "      <td>-0.980884</td>\n",
       "      <td>-1.239021</td>\n",
       "      <td>-0.880773</td>\n",
       "      <td>-0.873269</td>\n",
       "      <td>1.217043</td>\n",
       "      <td>-1.128052</td>\n",
       "      <td>-1.661325</td>\n",
       "      <td>0.447214</td>\n",
       "      <td>-1.0</td>\n",
       "    </tr>\n",
       "    <tr>\n",
       "      <th>3</th>\n",
       "      <td>-0.670820</td>\n",
       "      <td>-0.980884</td>\n",
       "      <td>-1.239021</td>\n",
       "      <td>-0.880773</td>\n",
       "      <td>-0.873269</td>\n",
       "      <td>1.581600</td>\n",
       "      <td>-1.056613</td>\n",
       "      <td>-1.661325</td>\n",
       "      <td>1.341641</td>\n",
       "      <td>-1.0</td>\n",
       "    </tr>\n",
       "    <tr>\n",
       "      <th>4</th>\n",
       "      <td>-0.670820</td>\n",
       "      <td>-0.980884</td>\n",
       "      <td>-1.216672</td>\n",
       "      <td>-0.880773</td>\n",
       "      <td>-0.953290</td>\n",
       "      <td>1.399322</td>\n",
       "      <td>-1.092333</td>\n",
       "      <td>-1.516862</td>\n",
       "      <td>-1.341641</td>\n",
       "      <td>-1.0</td>\n",
       "    </tr>\n",
       "    <tr>\n",
       "      <th>...</th>\n",
       "      <td>...</td>\n",
       "      <td>...</td>\n",
       "      <td>...</td>\n",
       "      <td>...</td>\n",
       "      <td>...</td>\n",
       "      <td>...</td>\n",
       "      <td>...</td>\n",
       "      <td>...</td>\n",
       "      <td>...</td>\n",
       "      <td>...</td>\n",
       "    </tr>\n",
       "    <tr>\n",
       "      <th>5947</th>\n",
       "      <td>-0.782624</td>\n",
       "      <td>0.049875</td>\n",
       "      <td>-1.104929</td>\n",
       "      <td>-0.794095</td>\n",
       "      <td>-0.953290</td>\n",
       "      <td>1.581600</td>\n",
       "      <td>-0.949454</td>\n",
       "      <td>1.516862</td>\n",
       "      <td>1.341641</td>\n",
       "      <td>1.0</td>\n",
       "    </tr>\n",
       "    <tr>\n",
       "      <th>5948</th>\n",
       "      <td>-0.782624</td>\n",
       "      <td>0.049875</td>\n",
       "      <td>-1.216672</td>\n",
       "      <td>-1.054129</td>\n",
       "      <td>-0.953290</td>\n",
       "      <td>1.034765</td>\n",
       "      <td>-1.199492</td>\n",
       "      <td>1.661325</td>\n",
       "      <td>-1.341641</td>\n",
       "      <td>1.0</td>\n",
       "    </tr>\n",
       "    <tr>\n",
       "      <th>5949</th>\n",
       "      <td>-0.782624</td>\n",
       "      <td>0.049875</td>\n",
       "      <td>-1.127278</td>\n",
       "      <td>-0.707418</td>\n",
       "      <td>-0.953290</td>\n",
       "      <td>0.579068</td>\n",
       "      <td>-1.145912</td>\n",
       "      <td>1.661325</td>\n",
       "      <td>-0.447214</td>\n",
       "      <td>1.0</td>\n",
       "    </tr>\n",
       "    <tr>\n",
       "      <th>5950</th>\n",
       "      <td>-0.782624</td>\n",
       "      <td>0.049875</td>\n",
       "      <td>-1.104929</td>\n",
       "      <td>-0.620740</td>\n",
       "      <td>-1.033312</td>\n",
       "      <td>0.761347</td>\n",
       "      <td>-1.092333</td>\n",
       "      <td>1.661325</td>\n",
       "      <td>0.447214</td>\n",
       "      <td>1.0</td>\n",
       "    </tr>\n",
       "    <tr>\n",
       "      <th>5951</th>\n",
       "      <td>-0.782624</td>\n",
       "      <td>0.049875</td>\n",
       "      <td>-1.149626</td>\n",
       "      <td>-0.794095</td>\n",
       "      <td>-0.953290</td>\n",
       "      <td>-0.332325</td>\n",
       "      <td>-1.360230</td>\n",
       "      <td>1.661325</td>\n",
       "      <td>1.341641</td>\n",
       "      <td>1.0</td>\n",
       "    </tr>\n",
       "  </tbody>\n",
       "</table>\n",
       "<p>5952 rows × 10 columns</p>\n",
       "</div>"
      ],
      "text/plain": [
       "          Date  Day of the week  CarCount  BikeCount  BusCount  TruckCount  \\\n",
       "0    -0.670820        -0.980884 -1.171975  -0.880773 -0.873269    0.487929   \n",
       "1    -0.670820        -0.980884 -1.149626  -0.967451 -0.953290    1.581600   \n",
       "2    -0.670820        -0.980884 -1.239021  -0.880773 -0.873269    1.217043   \n",
       "3    -0.670820        -0.980884 -1.239021  -0.880773 -0.873269    1.581600   \n",
       "4    -0.670820        -0.980884 -1.216672  -0.880773 -0.953290    1.399322   \n",
       "...        ...              ...       ...        ...       ...         ...   \n",
       "5947 -0.782624         0.049875 -1.104929  -0.794095 -0.953290    1.581600   \n",
       "5948 -0.782624         0.049875 -1.216672  -1.054129 -0.953290    1.034765   \n",
       "5949 -0.782624         0.049875 -1.127278  -0.707418 -0.953290    0.579068   \n",
       "5950 -0.782624         0.049875 -1.104929  -0.620740 -1.033312    0.761347   \n",
       "5951 -0.782624         0.049875 -1.149626  -0.794095 -0.953290   -0.332325   \n",
       "\n",
       "         Total      Hour    Minute  AM/PM  \n",
       "0    -1.217351 -1.661325 -1.341641   -1.0  \n",
       "1    -1.020893 -1.661325 -0.447214   -1.0  \n",
       "2    -1.128052 -1.661325  0.447214   -1.0  \n",
       "3    -1.056613 -1.661325  1.341641   -1.0  \n",
       "4    -1.092333 -1.516862 -1.341641   -1.0  \n",
       "...        ...       ...       ...    ...  \n",
       "5947 -0.949454  1.516862  1.341641    1.0  \n",
       "5948 -1.199492  1.661325 -1.341641    1.0  \n",
       "5949 -1.145912  1.661325 -0.447214    1.0  \n",
       "5950 -1.092333  1.661325  0.447214    1.0  \n",
       "5951 -1.360230  1.661325  1.341641    1.0  \n",
       "\n",
       "[5952 rows x 10 columns]"
      ]
     },
     "execution_count": 20,
     "metadata": {},
     "output_type": "execute_result"
    }
   ],
   "source": [
    "# normalizing using z-score\n",
    "\n",
    "scaler = preprocessing.StandardScaler()\n",
    "s = scaler.fit_transform(features)\n",
    "\n",
    "features_second_normalization = pd.DataFrame(s, columns=features.columns)\n",
    "features_second_normalization\n"
   ]
  },
  {
   "cell_type": "code",
   "execution_count": 21,
   "metadata": {},
   "outputs": [
    {
     "data": {
      "text/plain": [
       "Text(0.5, 1.0, 'Normalized using Z-score')"
      ]
     },
     "execution_count": 21,
     "metadata": {},
     "output_type": "execute_result"
    },
    {
     "data": {
      "image/png": "[encoded data removed]",
      "text/plain": [
       "<Figure size 640x480 with 1 Axes>"
      ]
     },
     "metadata": {},
     "output_type": "display_data"
    }
   ],
   "source": [
    "from sklearn.decomposition import PCA\n",
    "\n",
    "pca = PCA(n_components=2).fit(features_second_normalization)\n",
    "\n",
    "pca_2d = pca.transform(features_second_normalization)\n",
    "\n",
    "plt.scatter(pca_2d[:,0], pca_2d[:,1],c = target[:])\n",
    "plt.xlabel('Principal Component 1')\n",
    "plt.ylabel('Principal Component 2')\n",
    "plt.title(\"Normalized using Z-score\")\n"
   ]
  },
  {
   "cell_type": "markdown",
   "metadata": {},
   "source": [
    "After normalizing the data, I am going to apply the SVM algorithm to each of the normalized data in order to compare the results. "
   ]
  },
  {
   "cell_type": "code",
   "execution_count": 22,
   "metadata": {},
   "outputs": [],
   "source": [
    "# FOR THE FIRST NORMALIZED DATA(using MinMaxScaling)\n",
    "\n",
    "from sklearn import svm\n",
    "from sklearn.model_selection import train_test_split\n",
    "\n",
    "\n",
    "model = svm.SVC(kernel='rbf')\n",
    "# first I am splitting the data into 60% training and 40% testing\n",
    "[x_train,x_test,y_train,y_test] = train_test_split(features_first_normalization,target,test_size=0.4)\n",
    "model.fit(x_train,y_train)\n",
    "predicted_labels = model.predict(x_test)"
   ]
  },
  {
   "cell_type": "code",
   "execution_count": 23,
   "metadata": {},
   "outputs": [
    {
     "name": "stdout",
     "output_type": "stream",
     "text": [
      "RBF kernel on MinMaxScaling normalized data, 60% training data \n",
      "\n",
      "\n",
      "[[ 251   73    0    0]\n",
      " [  16 1405    4   26]\n",
      " [   0   80   43   30]\n",
      " [   0   10    1  442]]\n",
      "\n",
      "              precision    recall  f1-score   support\n",
      "\n",
      "           0       0.94      0.77      0.85       324\n",
      "           1       0.90      0.97      0.93      1451\n",
      "           2       0.90      0.28      0.43       153\n",
      "           3       0.89      0.98      0.93       453\n",
      "\n",
      "    accuracy                           0.90      2381\n",
      "   macro avg       0.90      0.75      0.78      2381\n",
      "weighted avg       0.90      0.90      0.89      2381\n",
      "\n"
     ]
    }
   ],
   "source": [
    "# now evaluating the performance\n",
    "from sklearn.metrics import classification_report, confusion_matrix\n",
    "\n",
    "print(\"RBF kernel on MinMaxScaling normalized data, 60% training data \\n\\n\")\n",
    "print(confusion_matrix(y_test, predicted_labels), end='\\n\\n')\n",
    "print(classification_report(y_test, predicted_labels))"
   ]
  },
  {
   "cell_type": "code",
   "execution_count": 24,
   "metadata": {},
   "outputs": [
    {
     "name": "stdout",
     "output_type": "stream",
     "text": [
      "RBF kernel on MinMaxScaling normalized data, 70% training data \n",
      "\n",
      "\n",
      "[[ 186   31    0    0]\n",
      " [  11 1060    4   14]\n",
      " [   0   65   34   22]\n",
      " [   0    4    2  353]]\n",
      "\n",
      "              precision    recall  f1-score   support\n",
      "\n",
      "           0       0.94      0.86      0.90       217\n",
      "           1       0.91      0.97      0.94      1089\n",
      "           2       0.85      0.28      0.42       121\n",
      "           3       0.91      0.98      0.94       359\n",
      "\n",
      "    accuracy                           0.91      1786\n",
      "   macro avg       0.90      0.77      0.80      1786\n",
      "weighted avg       0.91      0.91      0.90      1786\n",
      "\n"
     ]
    }
   ],
   "source": [
    "# now splitting the data into 70% training and 30% testing\n",
    "[x_train,x_test,y_train,y_test] = train_test_split(features_first_normalization,target,test_size=0.3)\n",
    "model.fit(x_train,y_train)\n",
    "\n",
    "predicted_labels = model.predict(x_test)\n",
    "print(\"RBF kernel on MinMaxScaling normalized data, 70% training data \\n\\n\")\n",
    "print(confusion_matrix(y_test, predicted_labels), end='\\n\\n')\n",
    "print(classification_report(y_test, predicted_labels))"
   ]
  },
  {
   "cell_type": "code",
   "execution_count": 25,
   "metadata": {},
   "outputs": [
    {
     "name": "stdout",
     "output_type": "stream",
     "text": [
      "RBF kernel on MinMaxScaling normalized data, 80% training data \n",
      "\n",
      "\n",
      "[[122  26   0   0]\n",
      " [  8 693   7   8]\n",
      " [  0  37  23  17]\n",
      " [  0   7   0 243]]\n",
      "\n",
      "              precision    recall  f1-score   support\n",
      "\n",
      "           0       0.94      0.82      0.88       148\n",
      "           1       0.91      0.97      0.94       716\n",
      "           2       0.77      0.30      0.43        77\n",
      "           3       0.91      0.97      0.94       250\n",
      "\n",
      "    accuracy                           0.91      1191\n",
      "   macro avg       0.88      0.77      0.80      1191\n",
      "weighted avg       0.90      0.91      0.90      1191\n",
      "\n"
     ]
    }
   ],
   "source": [
    "# now splitting the data into 80% training and 20% testing\n",
    "[x_train,x_test,y_train,y_test] = train_test_split(features_first_normalization,target,test_size=0.2)\n",
    "model.fit(x_train,y_train)\n",
    "\n",
    "predicted_labels = model.predict(x_test)\n",
    "print(\"RBF kernel on MinMaxScaling normalized data, 80% training data \\n\\n\")\n",
    "print(confusion_matrix(y_test, predicted_labels), end='\\n\\n')\n",
    "print(classification_report(y_test, predicted_labels))"
   ]
  },
  {
   "cell_type": "code",
   "execution_count": 26,
   "metadata": {},
   "outputs": [
    {
     "name": "stdout",
     "output_type": "stream",
     "text": [
      "Linear kernel on MinMaxScaling normalized data, 60% training data \n",
      "\n",
      "\n",
      "[[ 231  112    0    0]\n",
      " [  34 1377   14   19]\n",
      " [   0   73   50   27]\n",
      " [   0    5    1  438]]\n",
      "\n",
      "              precision    recall  f1-score   support\n",
      "\n",
      "           0       0.87      0.67      0.76       343\n",
      "           1       0.88      0.95      0.91      1444\n",
      "           2       0.77      0.33      0.47       150\n",
      "           3       0.90      0.99      0.94       444\n",
      "\n",
      "    accuracy                           0.88      2381\n",
      "   macro avg       0.86      0.74      0.77      2381\n",
      "weighted avg       0.88      0.88      0.87      2381\n",
      "\n"
     ]
    }
   ],
   "source": [
    "# applying the same steps but with a different kernel\n",
    "\n",
    "# using linear kernel\n",
    "\n",
    "model = svm.SVC(kernel='linear')\n",
    "\n",
    "# first I am splitting the data into 60% training and 40% testing\n",
    "[x_train,x_test,y_train,y_test] = train_test_split(features_first_normalization,target,test_size=0.4)\n",
    "model.fit(x_train,y_train)\n",
    "\n",
    "predicted_labels = model.predict(x_test)\n",
    "print(\"Linear kernel on MinMaxScaling normalized data, 60% training data \\n\\n\")\n",
    "print(confusion_matrix(y_test, predicted_labels), end='\\n\\n')\n",
    "print(classification_report(y_test, predicted_labels))\n"
   ]
  },
  {
   "cell_type": "code",
   "execution_count": 27,
   "metadata": {},
   "outputs": [
    {
     "name": "stdout",
     "output_type": "stream",
     "text": [
      "Linear kernel on MinMaxScaling normalized data, 70% training data \n",
      "\n",
      "\n",
      "[[ 171   83    0    0]\n",
      " [  41 1033   15   15]\n",
      " [   0   57   36   15]\n",
      " [   0    3    0  317]]\n",
      "\n",
      "              precision    recall  f1-score   support\n",
      "\n",
      "           0       0.81      0.67      0.73       254\n",
      "           1       0.88      0.94      0.91      1104\n",
      "           2       0.71      0.33      0.45       108\n",
      "           3       0.91      0.99      0.95       320\n",
      "\n",
      "    accuracy                           0.87      1786\n",
      "   macro avg       0.83      0.73      0.76      1786\n",
      "weighted avg       0.86      0.87      0.86      1786\n",
      "\n"
     ]
    }
   ],
   "source": [
    "# now I am splitting the data into 70% training and 30% testing\n",
    "[x_train,x_test,y_train,y_test] = train_test_split(features_first_normalization,target,test_size=0.3)\n",
    "model.fit(x_train,y_train)\n",
    "\n",
    "predicted_labels = model.predict(x_test)\n",
    "print(\"Linear kernel on MinMaxScaling normalized data, 70% training data \\n\\n\")\n",
    "print(confusion_matrix(y_test, predicted_labels), end='\\n\\n')\n",
    "print(classification_report(y_test, predicted_labels))"
   ]
  },
  {
   "cell_type": "code",
   "execution_count": 28,
   "metadata": {},
   "outputs": [
    {
     "name": "stdout",
     "output_type": "stream",
     "text": [
      "Linear kernel on MinMaxScaling normalized data, 80% training data \n",
      "\n",
      "\n",
      "[[ 97  64   0   0]\n",
      " [ 14 720   9   4]\n",
      " [  0  30  30  16]\n",
      " [  0   3   0 204]]\n",
      "\n",
      "              precision    recall  f1-score   support\n",
      "\n",
      "           0       0.87      0.60      0.71       161\n",
      "           1       0.88      0.96      0.92       747\n",
      "           2       0.77      0.39      0.52        76\n",
      "           3       0.91      0.99      0.95       207\n",
      "\n",
      "    accuracy                           0.88      1191\n",
      "   macro avg       0.86      0.74      0.78      1191\n",
      "weighted avg       0.88      0.88      0.87      1191\n",
      "\n"
     ]
    }
   ],
   "source": [
    "# now I am splitting the data into 80% training and 20% testing\n",
    "[x_train,x_test,y_train,y_test] = train_test_split(features_first_normalization,target,test_size=0.2)\n",
    "model.fit(x_train,y_train)\n",
    "\n",
    "predicted_labels = model.predict(x_test)\n",
    "print(\"Linear kernel on MinMaxScaling normalized data, 80% training data \\n\\n\")\n",
    "print(confusion_matrix(y_test, predicted_labels), end='\\n\\n')\n",
    "print(classification_report(y_test, predicted_labels))"
   ]
  },
  {
   "cell_type": "code",
   "execution_count": 29,
   "metadata": {},
   "outputs": [
    {
     "name": "stdout",
     "output_type": "stream",
     "text": [
      "Polynomial kernel on MinMaxScaling normalized data, 60% training data \n",
      "\n",
      "\n",
      "[[ 277   57    0    0]\n",
      " [  38 1406   23   10]\n",
      " [   0   47   89    6]\n",
      " [   0    5    2  421]]\n",
      "\n",
      "              precision    recall  f1-score   support\n",
      "\n",
      "           0       0.88      0.83      0.85       334\n",
      "           1       0.93      0.95      0.94      1477\n",
      "           2       0.78      0.63      0.70       142\n",
      "           3       0.96      0.98      0.97       428\n",
      "\n",
      "    accuracy                           0.92      2381\n",
      "   macro avg       0.89      0.85      0.87      2381\n",
      "weighted avg       0.92      0.92      0.92      2381\n",
      "\n"
     ]
    }
   ],
   "source": [
    "# applying the same steps but with a different kernel\n",
    "\n",
    "# using polynomial kernel\n",
    "\n",
    "model = svm.SVC(kernel='poly')\n",
    "\n",
    "# first I am splitting the data into 60% training and 40% testing\n",
    "[x_train,x_test,y_train,y_test] = train_test_split(features_first_normalization,target,test_size=0.4)\n",
    "model.fit(x_train,y_train)\n",
    "\n",
    "predicted_labels = model.predict(x_test)\n",
    "print(\"Polynomial kernel on MinMaxScaling normalized data, 60% training data \\n\\n\")\n",
    "print(confusion_matrix(y_test, predicted_labels), end='\\n\\n')\n",
    "print(classification_report(y_test, predicted_labels))\n"
   ]
  },
  {
   "cell_type": "code",
   "execution_count": 30,
   "metadata": {},
   "outputs": [
    {
     "name": "stdout",
     "output_type": "stream",
     "text": [
      "Polynomial kernel on MinMaxScaling normalized data, 70% training data \n",
      "\n",
      "\n",
      "[[ 222   36    0    0]\n",
      " [  28 1038   14    5]\n",
      " [   0   40   75    2]\n",
      " [   0    5    0  321]]\n",
      "\n",
      "              precision    recall  f1-score   support\n",
      "\n",
      "           0       0.89      0.86      0.87       258\n",
      "           1       0.93      0.96      0.94      1085\n",
      "           2       0.84      0.64      0.73       117\n",
      "           3       0.98      0.98      0.98       326\n",
      "\n",
      "    accuracy                           0.93      1786\n",
      "   macro avg       0.91      0.86      0.88      1786\n",
      "weighted avg       0.93      0.93      0.93      1786\n",
      "\n"
     ]
    }
   ],
   "source": [
    "# now I am splitting the data into 70% training and 30% testing\n",
    "[x_train,x_test,y_train,y_test] = train_test_split(features_first_normalization,target,test_size=0.3)\n",
    "model.fit(x_train,y_train)\n",
    "\n",
    "predicted_labels = model.predict(x_test)\n",
    "print(\"Polynomial kernel on MinMaxScaling normalized data, 70% training data \\n\\n\")\n",
    "print(confusion_matrix(y_test, predicted_labels), end='\\n\\n')\n",
    "print(classification_report(y_test, predicted_labels))"
   ]
  },
  {
   "cell_type": "code",
   "execution_count": 31,
   "metadata": {},
   "outputs": [
    {
     "name": "stdout",
     "output_type": "stream",
     "text": [
      "Polynomial kernel on MinMaxScaling normalized data, 80% training data \n",
      "\n",
      "\n",
      "[[133  24   0   1]\n",
      " [ 25 676  11   3]\n",
      " [  0  18  43   0]\n",
      " [  0   7   3 247]]\n",
      "\n",
      "              precision    recall  f1-score   support\n",
      "\n",
      "           0       0.84      0.84      0.84       158\n",
      "           1       0.93      0.95      0.94       715\n",
      "           2       0.75      0.70      0.73        61\n",
      "           3       0.98      0.96      0.97       257\n",
      "\n",
      "    accuracy                           0.92      1191\n",
      "   macro avg       0.88      0.86      0.87      1191\n",
      "weighted avg       0.92      0.92      0.92      1191\n",
      "\n"
     ]
    }
   ],
   "source": [
    "# now I am splitting the data into 80% training and 20% testing\n",
    "[x_train,x_test,y_train,y_test] = train_test_split(features_first_normalization,target,test_size=0.2)\n",
    "model.fit(x_train,y_train)\n",
    "\n",
    "predicted_labels = model.predict(x_test)\n",
    "print(\"Polynomial kernel on MinMaxScaling normalized data, 80% training data \\n\\n\")\n",
    "print(confusion_matrix(y_test, predicted_labels), end='\\n\\n')\n",
    "print(classification_report(y_test, predicted_labels))"
   ]
  },
  {
   "cell_type": "code",
   "execution_count": 32,
   "metadata": {},
   "outputs": [
    {
     "name": "stdout",
     "output_type": "stream",
     "text": [
      "Sigmoid kernel on MinMaxScaling normalized data, 60% training data \n",
      "\n",
      "\n",
      "[[ 53  93   0 153]\n",
      " [362 780   0 328]\n",
      " [ 52  62   0  22]\n",
      " [205 161   0 110]]\n",
      "\n",
      "              precision    recall  f1-score   support\n",
      "\n",
      "           0       0.08      0.18      0.11       299\n",
      "           1       0.71      0.53      0.61      1470\n",
      "           2       0.00      0.00      0.00       136\n",
      "           3       0.18      0.23      0.20       476\n",
      "\n",
      "    accuracy                           0.40      2381\n",
      "   macro avg       0.24      0.23      0.23      2381\n",
      "weighted avg       0.49      0.40      0.43      2381\n",
      "\n"
     ]
    },
    {
     "name": "stderr",
     "output_type": "stream",
     "text": [
      "/Users/ilvicumani/Library/Python/3.9/lib/python/site-packages/sklearn/metrics/_classification.py:1471: UndefinedMetricWarning: Precision and F-score are ill-defined and being set to 0.0 in labels with no predicted samples. Use `zero_division` parameter to control this behavior.\n",
      "  _warn_prf(average, modifier, msg_start, len(result))\n",
      "/Users/ilvicumani/Library/Python/3.9/lib/python/site-packages/sklearn/metrics/_classification.py:1471: UndefinedMetricWarning: Precision and F-score are ill-defined and being set to 0.0 in labels with no predicted samples. Use `zero_division` parameter to control this behavior.\n",
      "  _warn_prf(average, modifier, msg_start, len(result))\n",
      "/Users/ilvicumani/Library/Python/3.9/lib/python/site-packages/sklearn/metrics/_classification.py:1471: UndefinedMetricWarning: Precision and F-score are ill-defined and being set to 0.0 in labels with no predicted samples. Use `zero_division` parameter to control this behavior.\n",
      "  _warn_prf(average, modifier, msg_start, len(result))\n"
     ]
    }
   ],
   "source": [
    "# applying the same steps but with a different kernel\n",
    "\n",
    "# using sigmoid kernel\n",
    "\n",
    "model = svm.SVC(kernel='sigmoid')\n",
    "\n",
    "# first I am splitting the data into 60% training and 40% testing\n",
    "[x_train,x_test,y_train,y_test] = train_test_split(features_first_normalization,target,test_size=0.4)\n",
    "model.fit(x_train,y_train)\n",
    "\n",
    "predicted_labels = model.predict(x_test)\n",
    "print(\"Sigmoid kernel on MinMaxScaling normalized data, 60% training data \\n\\n\")\n",
    "print(confusion_matrix(y_test, predicted_labels), end='\\n\\n')\n",
    "print(classification_report(y_test, predicted_labels))\n"
   ]
  },
  {
   "cell_type": "code",
   "execution_count": 33,
   "metadata": {},
   "outputs": [
    {
     "name": "stdout",
     "output_type": "stream",
     "text": [
      "Sigmoid kernel on MinMaxScaling normalized data, 70% training data \n",
      "\n",
      "\n",
      "[[ 41  88   0 133]\n",
      " [222 591   0 271]\n",
      " [ 33  57   0  22]\n",
      " [130 134   0  64]]\n",
      "\n",
      "              precision    recall  f1-score   support\n",
      "\n",
      "           0       0.10      0.16      0.12       262\n",
      "           1       0.68      0.55      0.60      1084\n",
      "           2       0.00      0.00      0.00       112\n",
      "           3       0.13      0.20      0.16       328\n",
      "\n",
      "    accuracy                           0.39      1786\n",
      "   macro avg       0.23      0.22      0.22      1786\n",
      "weighted avg       0.45      0.39      0.41      1786\n",
      "\n"
     ]
    },
    {
     "name": "stderr",
     "output_type": "stream",
     "text": [
      "/Users/ilvicumani/Library/Python/3.9/lib/python/site-packages/sklearn/metrics/_classification.py:1471: UndefinedMetricWarning: Precision and F-score are ill-defined and being set to 0.0 in labels with no predicted samples. Use `zero_division` parameter to control this behavior.\n",
      "  _warn_prf(average, modifier, msg_start, len(result))\n",
      "/Users/ilvicumani/Library/Python/3.9/lib/python/site-packages/sklearn/metrics/_classification.py:1471: UndefinedMetricWarning: Precision and F-score are ill-defined and being set to 0.0 in labels with no predicted samples. Use `zero_division` parameter to control this behavior.\n",
      "  _warn_prf(average, modifier, msg_start, len(result))\n",
      "/Users/ilvicumani/Library/Python/3.9/lib/python/site-packages/sklearn/metrics/_classification.py:1471: UndefinedMetricWarning: Precision and F-score are ill-defined and being set to 0.0 in labels with no predicted samples. Use `zero_division` parameter to control this behavior.\n",
      "  _warn_prf(average, modifier, msg_start, len(result))\n"
     ]
    }
   ],
   "source": [
    "# now I am splitting the data into 70% training and 30% testing\n",
    "[x_train,x_test,y_train,y_test] = train_test_split(features_first_normalization,target,test_size=0.3)\n",
    "model.fit(x_train,y_train)\n",
    "\n",
    "predicted_labels = model.predict(x_test)\n",
    "print(\"Sigmoid kernel on MinMaxScaling normalized data, 70% training data \\n\\n\")\n",
    "print(confusion_matrix(y_test, predicted_labels), end='\\n\\n')\n",
    "print(classification_report(y_test, predicted_labels))"
   ]
  },
  {
   "cell_type": "code",
   "execution_count": 34,
   "metadata": {},
   "outputs": [
    {
     "name": "stdout",
     "output_type": "stream",
     "text": [
      "Sigmoid kernel on MinMaxScaling normalized data, 80% training data \n",
      "\n",
      "\n",
      "[[ 26  56   0  79]\n",
      " [141 398   0 180]\n",
      " [ 21  38   0  13]\n",
      " [114  75   0  50]]\n",
      "\n",
      "              precision    recall  f1-score   support\n",
      "\n",
      "           0       0.09      0.16      0.11       161\n",
      "           1       0.70      0.55      0.62       719\n",
      "           2       0.00      0.00      0.00        72\n",
      "           3       0.16      0.21      0.18       239\n",
      "\n",
      "    accuracy                           0.40      1191\n",
      "   macro avg       0.24      0.23      0.23      1191\n",
      "weighted avg       0.47      0.40      0.42      1191\n",
      "\n"
     ]
    },
    {
     "name": "stderr",
     "output_type": "stream",
     "text": [
      "/Users/ilvicumani/Library/Python/3.9/lib/python/site-packages/sklearn/metrics/_classification.py:1471: UndefinedMetricWarning: Precision and F-score are ill-defined and being set to 0.0 in labels with no predicted samples. Use `zero_division` parameter to control this behavior.\n",
      "  _warn_prf(average, modifier, msg_start, len(result))\n",
      "/Users/ilvicumani/Library/Python/3.9/lib/python/site-packages/sklearn/metrics/_classification.py:1471: UndefinedMetricWarning: Precision and F-score are ill-defined and being set to 0.0 in labels with no predicted samples. Use `zero_division` parameter to control this behavior.\n",
      "  _warn_prf(average, modifier, msg_start, len(result))\n",
      "/Users/ilvicumani/Library/Python/3.9/lib/python/site-packages/sklearn/metrics/_classification.py:1471: UndefinedMetricWarning: Precision and F-score are ill-defined and being set to 0.0 in labels with no predicted samples. Use `zero_division` parameter to control this behavior.\n",
      "  _warn_prf(average, modifier, msg_start, len(result))\n"
     ]
    }
   ],
   "source": [
    "# now I am splitting the data into 80% training and 20% testing\n",
    "[x_train,x_test,y_train,y_test] = train_test_split(features_first_normalization,target,test_size=0.2)\n",
    "\n",
    "model.fit(x_train,y_train)\n",
    "\n",
    "predicted_labels = model.predict(x_test)\n",
    "print(\"Sigmoid kernel on MinMaxScaling normalized data, 80% training data \\n\\n\")\n",
    "print(confusion_matrix(y_test, predicted_labels), end='\\n\\n')\n",
    "print(classification_report(y_test, predicted_labels))"
   ]
  },
  {
   "cell_type": "markdown",
   "metadata": {},
   "source": [
    "Now repeating the same steps for the data normalized with the second method(Z-Score)\n"
   ]
  },
  {
   "cell_type": "code",
   "execution_count": 35,
   "metadata": {},
   "outputs": [
    {
     "name": "stdout",
     "output_type": "stream",
     "text": [
      "RBF kernel on Z-SCORE 60% training data \n",
      "\n",
      "\n",
      "[[ 307   37    0    0]\n",
      " [  26 1365   18   15]\n",
      " [   0   41   97   20]\n",
      " [   0    5    4  446]]\n",
      "\n",
      "              precision    recall  f1-score   support\n",
      "\n",
      "           0       0.92      0.89      0.91       344\n",
      "           1       0.94      0.96      0.95      1424\n",
      "           2       0.82      0.61      0.70       158\n",
      "           3       0.93      0.98      0.95       455\n",
      "\n",
      "    accuracy                           0.93      2381\n",
      "   macro avg       0.90      0.86      0.88      2381\n",
      "weighted avg       0.93      0.93      0.93      2381\n",
      "\n"
     ]
    }
   ],
   "source": [
    "# for Z-Score normalized data\n",
    "\n",
    "model = svm.SVC(kernel='rbf')\n",
    "# first I am splitting the data into 60% training and 40% testing\n",
    "[x_train,x_test,y_train,y_test] = train_test_split(features_second_normalization,target,test_size=0.4)\n",
    "model.fit(x_train,y_train)\n",
    "predicted_labels = model.predict(x_test)\n",
    "print(\"RBF kernel on Z-SCORE 60% training data \\n\\n\")\n",
    "print(confusion_matrix(y_test, predicted_labels), end='\\n\\n')\n",
    "print(classification_report(y_test, predicted_labels))"
   ]
  },
  {
   "cell_type": "code",
   "execution_count": 36,
   "metadata": {},
   "outputs": [
    {
     "name": "stdout",
     "output_type": "stream",
     "text": [
      "RBF kernel on Z-SCORE 70% training data \n",
      "\n",
      "\n",
      "[[ 221   36    0    0]\n",
      " [  17 1031    9   16]\n",
      " [   0   31   72   11]\n",
      " [   0    4    4  334]]\n",
      "\n",
      "              precision    recall  f1-score   support\n",
      "\n",
      "           0       0.93      0.86      0.89       257\n",
      "           1       0.94      0.96      0.95      1073\n",
      "           2       0.85      0.63      0.72       114\n",
      "           3       0.93      0.98      0.95       342\n",
      "\n",
      "    accuracy                           0.93      1786\n",
      "   macro avg       0.91      0.86      0.88      1786\n",
      "weighted avg       0.93      0.93      0.93      1786\n",
      "\n"
     ]
    }
   ],
   "source": [
    "# now splitting the data into 70% training and 30% testing\n",
    "[x_train,x_test,y_train,y_test] = train_test_split(features_second_normalization,target,test_size=0.3)\n",
    "model.fit(x_train,y_train)\n",
    "\n",
    "predicted_labels = model.predict(x_test)\n",
    "print(\"RBF kernel on Z-SCORE 70% training data \\n\\n\")\n",
    "print(confusion_matrix(y_test, predicted_labels), end='\\n\\n')\n",
    "print(classification_report(y_test, predicted_labels))"
   ]
  },
  {
   "cell_type": "code",
   "execution_count": 37,
   "metadata": {},
   "outputs": [
    {
     "name": "stdout",
     "output_type": "stream",
     "text": [
      "RBF kernel on Z-SCORE 80% training data \n",
      "\n",
      "\n",
      "[[153  20   0   0]\n",
      " [ 13 693   5   8]\n",
      " [  0  22  41  11]\n",
      " [  0   4   1 220]]\n",
      "\n",
      "              precision    recall  f1-score   support\n",
      "\n",
      "           0       0.92      0.88      0.90       173\n",
      "           1       0.94      0.96      0.95       719\n",
      "           2       0.87      0.55      0.68        74\n",
      "           3       0.92      0.98      0.95       225\n",
      "\n",
      "    accuracy                           0.93      1191\n",
      "   macro avg       0.91      0.85      0.87      1191\n",
      "weighted avg       0.93      0.93      0.93      1191\n",
      "\n"
     ]
    }
   ],
   "source": [
    "# now splitting the data into 80% training and 20% testing\n",
    "[x_train,x_test,y_train,y_test] = train_test_split(features_second_normalization,target,test_size=0.2)\n",
    "model.fit(x_train,y_train)\n",
    "\n",
    "predicted_labels = model.predict(x_test)\n",
    "print(\"RBF kernel on Z-SCORE 80% training data \\n\\n\")\n",
    "print(confusion_matrix(y_test, predicted_labels), end='\\n\\n')\n",
    "print(classification_report(y_test, predicted_labels))"
   ]
  },
  {
   "cell_type": "code",
   "execution_count": 38,
   "metadata": {},
   "outputs": [
    {
     "name": "stdout",
     "output_type": "stream",
     "text": [
      "Linear kernel on Z-SCORE 60% training data \n",
      "\n",
      "\n",
      "[[ 246   94    0    0]\n",
      " [  39 1358   37    5]\n",
      " [   0   61   71    7]\n",
      " [   0    2    1  460]]\n",
      "\n",
      "              precision    recall  f1-score   support\n",
      "\n",
      "           0       0.86      0.72      0.79       340\n",
      "           1       0.90      0.94      0.92      1439\n",
      "           2       0.65      0.51      0.57       139\n",
      "           3       0.97      0.99      0.98       463\n",
      "\n",
      "    accuracy                           0.90      2381\n",
      "   macro avg       0.85      0.79      0.82      2381\n",
      "weighted avg       0.89      0.90      0.89      2381\n",
      "\n"
     ]
    }
   ],
   "source": [
    "# applying the same steps but with a different kernel\n",
    "\n",
    "# using linear kernel\n",
    "\n",
    "model = svm.SVC(kernel='linear')\n",
    "\n",
    "# first I am splitting the data into 60% training and 40% testing\n",
    "[x_train,x_test,y_train,y_test] = train_test_split(features_second_normalization,target,test_size=0.4)\n",
    "model.fit(x_train,y_train)\n",
    "\n",
    "predicted_labels = model.predict(x_test)\n",
    "print(\"Linear kernel on Z-SCORE 60% training data \\n\\n\")\n",
    "print(confusion_matrix(y_test, predicted_labels), end='\\n\\n')\n",
    "print(classification_report(y_test, predicted_labels))\n"
   ]
  },
  {
   "cell_type": "code",
   "execution_count": 39,
   "metadata": {},
   "outputs": [
    {
     "name": "stdout",
     "output_type": "stream",
     "text": [
      "Linear kernel on Z-SCORE 70% training data \n",
      "\n",
      "\n",
      "[[ 167   54    0    0]\n",
      " [  40 1019   24   10]\n",
      " [   0   56   64    2]\n",
      " [   0    4    1  345]]\n",
      "\n",
      "              precision    recall  f1-score   support\n",
      "\n",
      "           0       0.81      0.76      0.78       221\n",
      "           1       0.90      0.93      0.92      1093\n",
      "           2       0.72      0.52      0.61       122\n",
      "           3       0.97      0.99      0.98       350\n",
      "\n",
      "    accuracy                           0.89      1786\n",
      "   macro avg       0.85      0.80      0.82      1786\n",
      "weighted avg       0.89      0.89      0.89      1786\n",
      "\n"
     ]
    }
   ],
   "source": [
    "# now splitting the data into 70% training and 30% testing\n",
    "[x_train,x_test,y_train,y_test] = train_test_split(features_second_normalization,target,test_size=0.3)\n",
    "model.fit(x_train,y_train)\n",
    "\n",
    "predicted_labels = model.predict(x_test)\n",
    "print(\"Linear kernel on Z-SCORE 70% training data \\n\\n\")\n",
    "print(confusion_matrix(y_test, predicted_labels), end='\\n\\n')\n",
    "print(classification_report(y_test, predicted_labels))"
   ]
  },
  {
   "cell_type": "code",
   "execution_count": 40,
   "metadata": {},
   "outputs": [
    {
     "name": "stdout",
     "output_type": "stream",
     "text": [
      "Linear kernel on Z-SCORE 80% training data \n",
      "\n",
      "\n",
      "[[105  52   0   0]\n",
      " [ 29 684  16   6]\n",
      " [  0  28  32   2]\n",
      " [  0   1   3 233]]\n",
      "\n",
      "              precision    recall  f1-score   support\n",
      "\n",
      "           0       0.78      0.67      0.72       157\n",
      "           1       0.89      0.93      0.91       735\n",
      "           2       0.63      0.52      0.57        62\n",
      "           3       0.97      0.98      0.97       237\n",
      "\n",
      "    accuracy                           0.88      1191\n",
      "   macro avg       0.82      0.77      0.79      1191\n",
      "weighted avg       0.88      0.88      0.88      1191\n",
      "\n"
     ]
    }
   ],
   "source": [
    "# now splitting the data into 80% training and 20% testing\n",
    "[x_train,x_test,y_train,y_test] = train_test_split(features_second_normalization,target,test_size=0.2)\n",
    "model.fit(x_train,y_train)\n",
    "\n",
    "predicted_labels = model.predict(x_test)\n",
    "print(\"Linear kernel on Z-SCORE 80% training data \\n\\n\")\n",
    "print(confusion_matrix(y_test, predicted_labels), end='\\n\\n')\n",
    "print(classification_report(y_test, predicted_labels))"
   ]
  },
  {
   "cell_type": "code",
   "execution_count": 41,
   "metadata": {},
   "outputs": [
    {
     "name": "stdout",
     "output_type": "stream",
     "text": [
      "Polynomial kernel on Z-SCORE 60% training data \n",
      "\n",
      "\n",
      "[[ 224  111    0    0]\n",
      " [  17 1421    5   11]\n",
      " [   0   66   69   14]\n",
      " [   0   16    8  419]]\n",
      "\n",
      "              precision    recall  f1-score   support\n",
      "\n",
      "           0       0.93      0.67      0.78       335\n",
      "           1       0.88      0.98      0.93      1454\n",
      "           2       0.84      0.46      0.60       149\n",
      "           3       0.94      0.95      0.94       443\n",
      "\n",
      "    accuracy                           0.90      2381\n",
      "   macro avg       0.90      0.76      0.81      2381\n",
      "weighted avg       0.90      0.90      0.89      2381\n",
      "\n"
     ]
    }
   ],
   "source": [
    "# applying the same steps but with a different kernel\n",
    "\n",
    "# using polynomial kernel\n",
    "\n",
    "model = svm.SVC(kernel='poly')\n",
    "\n",
    "# first I am splitting the data into 60% training and 40% testing\n",
    "[x_train,x_test,y_train,y_test] = train_test_split(features_second_normalization,target,test_size=0.4)\n",
    "model.fit(x_train,y_train)\n",
    "\n",
    "predicted_labels = model.predict(x_test)\n",
    "print(\"Polynomial kernel on Z-SCORE 60% training data \\n\\n\")\n",
    "print(confusion_matrix(y_test, predicted_labels), end='\\n\\n')\n",
    "print(classification_report(y_test, predicted_labels))\n"
   ]
  },
  {
   "cell_type": "code",
   "execution_count": 42,
   "metadata": {},
   "outputs": [
    {
     "name": "stdout",
     "output_type": "stream",
     "text": [
      "Polynomial kernel on Z-SCORE 70% training data \n",
      "\n",
      "\n",
      "[[ 176   65    0    0]\n",
      " [  18 1045    6    5]\n",
      " [   0   53   50    8]\n",
      " [   0   14    2  344]]\n",
      "\n",
      "              precision    recall  f1-score   support\n",
      "\n",
      "           0       0.91      0.73      0.81       241\n",
      "           1       0.89      0.97      0.93      1074\n",
      "           2       0.86      0.45      0.59       111\n",
      "           3       0.96      0.96      0.96       360\n",
      "\n",
      "    accuracy                           0.90      1786\n",
      "   macro avg       0.91      0.78      0.82      1786\n",
      "weighted avg       0.90      0.90      0.90      1786\n",
      "\n"
     ]
    }
   ],
   "source": [
    "# now splitting the data into 70% training and 30% testing\n",
    "[x_train,x_test,y_train,y_test] = train_test_split(features_second_normalization,target,test_size=0.3)\n",
    "model.fit(x_train,y_train)\n",
    "\n",
    "predicted_labels = model.predict(x_test)\n",
    "print(\"Polynomial kernel on Z-SCORE 70% training data \\n\\n\")\n",
    "print(confusion_matrix(y_test, predicted_labels), end='\\n\\n')\n",
    "print(classification_report(y_test, predicted_labels))"
   ]
  },
  {
   "cell_type": "code",
   "execution_count": 43,
   "metadata": {},
   "outputs": [
    {
     "name": "stdout",
     "output_type": "stream",
     "text": [
      "Polynomial kernel on Z-SCORE 80% training data \n",
      "\n",
      "\n",
      "[[118  38   0   0]\n",
      " [  9 709   3   3]\n",
      " [  0  33  39   6]\n",
      " [  0  10   2 221]]\n",
      "\n",
      "              precision    recall  f1-score   support\n",
      "\n",
      "           0       0.93      0.76      0.83       156\n",
      "           1       0.90      0.98      0.94       724\n",
      "           2       0.89      0.50      0.64        78\n",
      "           3       0.96      0.95      0.95       233\n",
      "\n",
      "    accuracy                           0.91      1191\n",
      "   macro avg       0.92      0.80      0.84      1191\n",
      "weighted avg       0.91      0.91      0.91      1191\n",
      "\n"
     ]
    }
   ],
   "source": [
    "# now splitting the data into 80% training and 20% testing\n",
    "[x_train,x_test,y_train,y_test] = train_test_split(features_second_normalization,target,test_size=0.2)\n",
    "model.fit(x_train,y_train)\n",
    "\n",
    "predicted_labels = model.predict(x_test)\n",
    "print(\"Polynomial kernel on Z-SCORE 80% training data \\n\\n\")\n",
    "print(confusion_matrix(y_test, predicted_labels), end='\\n\\n')\n",
    "print(classification_report(y_test, predicted_labels))"
   ]
  },
  {
   "cell_type": "code",
   "execution_count": 44,
   "metadata": {},
   "outputs": [
    {
     "name": "stdout",
     "output_type": "stream",
     "text": [
      "Sigmoid on Z-SCORE normalized data, 60% training data \n",
      "\n",
      "\n",
      "[[ 52 105   0 159]\n",
      " [256 853   0 342]\n",
      " [ 51  67   0  31]\n",
      " [192 167   0 106]]\n",
      "\n",
      "              precision    recall  f1-score   support\n",
      "\n",
      "           0       0.09      0.16      0.12       316\n",
      "           1       0.72      0.59      0.65      1451\n",
      "           2       0.00      0.00      0.00       149\n",
      "           3       0.17      0.23      0.19       465\n",
      "\n",
      "    accuracy                           0.42      2381\n",
      "   macro avg       0.24      0.25      0.24      2381\n",
      "weighted avg       0.48      0.42      0.45      2381\n",
      "\n"
     ]
    },
    {
     "name": "stderr",
     "output_type": "stream",
     "text": [
      "/Users/ilvicumani/Library/Python/3.9/lib/python/site-packages/sklearn/metrics/_classification.py:1471: UndefinedMetricWarning: Precision and F-score are ill-defined and being set to 0.0 in labels with no predicted samples. Use `zero_division` parameter to control this behavior.\n",
      "  _warn_prf(average, modifier, msg_start, len(result))\n",
      "/Users/ilvicumani/Library/Python/3.9/lib/python/site-packages/sklearn/metrics/_classification.py:1471: UndefinedMetricWarning: Precision and F-score are ill-defined and being set to 0.0 in labels with no predicted samples. Use `zero_division` parameter to control this behavior.\n",
      "  _warn_prf(average, modifier, msg_start, len(result))\n",
      "/Users/ilvicumani/Library/Python/3.9/lib/python/site-packages/sklearn/metrics/_classification.py:1471: UndefinedMetricWarning: Precision and F-score are ill-defined and being set to 0.0 in labels with no predicted samples. Use `zero_division` parameter to control this behavior.\n",
      "  _warn_prf(average, modifier, msg_start, len(result))\n"
     ]
    }
   ],
   "source": [
    "# applying the same steps but with a different kernel\n",
    "\n",
    "# using sigmoid kernel\n",
    "\n",
    "model = svm.SVC(kernel='sigmoid')\n",
    "\n",
    "# first I am splitting the data into 60% training and 40% testing\n",
    "[x_train,x_test,y_train,y_test] = train_test_split(features_first_normalization,target,test_size=0.4)\n",
    "model.fit(x_train,y_train)\n",
    "\n",
    "predicted_labels = model.predict(x_test)\n",
    "print(\"Sigmoid on Z-SCORE normalized data, 60% training data \\n\\n\")\n",
    "print(confusion_matrix(y_test, predicted_labels), end='\\n\\n')\n",
    "print(classification_report(y_test, predicted_labels))"
   ]
  },
  {
   "cell_type": "code",
   "execution_count": 45,
   "metadata": {},
   "outputs": [
    {
     "name": "stdout",
     "output_type": "stream",
     "text": [
      "Sigmoid on Z-SCORE normalized data, 70% training data \n",
      "\n",
      "\n",
      "[[119 138   0   0]\n",
      " [116 916  19  38]\n",
      " [  0  73  18  20]\n",
      " [  0  72  10 247]]\n",
      "\n",
      "              precision    recall  f1-score   support\n",
      "\n",
      "           0       0.51      0.46      0.48       257\n",
      "           1       0.76      0.84      0.80      1089\n",
      "           2       0.38      0.16      0.23       111\n",
      "           3       0.81      0.75      0.78       329\n",
      "\n",
      "    accuracy                           0.73      1786\n",
      "   macro avg       0.62      0.55      0.57      1786\n",
      "weighted avg       0.71      0.73      0.72      1786\n",
      "\n"
     ]
    }
   ],
   "source": [
    "# now splitting the data into 70% training and 30% testing\n",
    "[x_train,x_test,y_train,y_test] = train_test_split(features_second_normalization,target,test_size=0.3)\n",
    "model.fit(x_train,y_train)\n",
    "\n",
    "predicted_labels = model.predict(x_test)\n",
    "print(\"Sigmoid on Z-SCORE normalized data, 70% training data \\n\\n\")\n",
    "print(confusion_matrix(y_test, predicted_labels), end='\\n\\n')\n",
    "print(classification_report(y_test, predicted_labels))"
   ]
  },
  {
   "cell_type": "code",
   "execution_count": 46,
   "metadata": {},
   "outputs": [
    {
     "name": "stdout",
     "output_type": "stream",
     "text": [
      "Sigmoid on Z-SCORE normalized data, 80% training data \n",
      "\n",
      "\n",
      "[[ 87  86   0   0]\n",
      " [ 87 588  11  34]\n",
      " [  0  37  11  14]\n",
      " [  0  49   3 184]]\n",
      "\n",
      "              precision    recall  f1-score   support\n",
      "\n",
      "           0       0.50      0.50      0.50       173\n",
      "           1       0.77      0.82      0.79       720\n",
      "           2       0.44      0.18      0.25        62\n",
      "           3       0.79      0.78      0.79       236\n",
      "\n",
      "    accuracy                           0.73      1191\n",
      "   macro avg       0.63      0.57      0.58      1191\n",
      "weighted avg       0.72      0.73      0.72      1191\n",
      "\n"
     ]
    }
   ],
   "source": [
    "# now splitting the data into 80% training and 20% testing\n",
    "[x_train,x_test,y_train,y_test] = train_test_split(features_second_normalization,target,test_size=0.2)\n",
    "model.fit(x_train,y_train)\n",
    "\n",
    "predicted_labels = model.predict(x_test)\n",
    "print(\"Sigmoid on Z-SCORE normalized data, 80% training data \\n\\n\")\n",
    "print(confusion_matrix(y_test, predicted_labels), end='\\n\\n')\n",
    "print(classification_report(y_test, predicted_labels))"
   ]
  },
  {
   "cell_type": "markdown",
   "metadata": {},
   "source": [
    "Applying svm on the non-normalized data for comparison"
   ]
  },
  {
   "cell_type": "code",
   "execution_count": 47,
   "metadata": {},
   "outputs": [
    {
     "name": "stdout",
     "output_type": "stream",
     "text": [
      "RBF kernel on un-normalized 60% training data \n",
      "\n",
      "\n",
      "[[ 248   63    0    0]\n",
      " [  17 1391    1   16]\n",
      " [   0  109   49   12]\n",
      " [   0    3    1  471]]\n",
      "\n",
      "              precision    recall  f1-score   support\n",
      "\n",
      "           0       0.94      0.80      0.86       311\n",
      "           1       0.89      0.98      0.93      1425\n",
      "           2       0.96      0.29      0.44       170\n",
      "           3       0.94      0.99      0.97       475\n",
      "\n",
      "    accuracy                           0.91      2381\n",
      "   macro avg       0.93      0.76      0.80      2381\n",
      "weighted avg       0.91      0.91      0.89      2381\n",
      "\n"
     ]
    }
   ],
   "source": [
    "model = svm.SVC(kernel='rbf')\n",
    "# first I am splitting the data into 60% training and 40% testing\n",
    "[x_train,x_test,y_train,y_test] = train_test_split(features,target,test_size=0.4)\n",
    "model.fit(x_train,y_train)\n",
    "predicted_labels = model.predict(x_test)\n",
    "print(\"RBF kernel on un-normalized 60% training data \\n\\n\")\n",
    "print(confusion_matrix(y_test, predicted_labels), end='\\n\\n')\n",
    "print(classification_report(y_test, predicted_labels))"
   ]
  },
  {
   "cell_type": "code",
   "execution_count": 48,
   "metadata": {},
   "outputs": [
    {
     "name": "stdout",
     "output_type": "stream",
     "text": [
      "RBF kernel on un-normalized 70% training data \n",
      "\n",
      "\n",
      "[[ 210   50    0    0]\n",
      " [  17 1057    3   17]\n",
      " [   0   56   48    9]\n",
      " [   0    3    0  316]]\n",
      "\n",
      "              precision    recall  f1-score   support\n",
      "\n",
      "           0       0.93      0.81      0.86       260\n",
      "           1       0.91      0.97      0.94      1094\n",
      "           2       0.94      0.42      0.59       113\n",
      "           3       0.92      0.99      0.96       319\n",
      "\n",
      "    accuracy                           0.91      1786\n",
      "   macro avg       0.92      0.80      0.83      1786\n",
      "weighted avg       0.91      0.91      0.91      1786\n",
      "\n"
     ]
    }
   ],
   "source": [
    "# now splitting the data into 70% training and 30% testing\n",
    "[x_train,x_test,y_train,y_test] = train_test_split(features,target,test_size=0.3)\n",
    "model.fit(x_train,y_train)\n",
    "\n",
    "predicted_labels = model.predict(x_test)\n",
    "print(\"RBF kernel on un-normalized 70% training data \\n\\n\")\n",
    "print(confusion_matrix(y_test, predicted_labels), end='\\n\\n')\n",
    "print(classification_report(y_test, predicted_labels))"
   ]
  },
  {
   "cell_type": "code",
   "execution_count": 49,
   "metadata": {},
   "outputs": [
    {
     "name": "stdout",
     "output_type": "stream",
     "text": [
      "RBF kernel on un-normalized 80% training data \n",
      "\n",
      "\n",
      "[[142  27   0   0]\n",
      " [  9 693   2   5]\n",
      " [  0  37  25   9]\n",
      " [  0   0   0 242]]\n",
      "\n",
      "              precision    recall  f1-score   support\n",
      "\n",
      "           0       0.94      0.84      0.89       169\n",
      "           1       0.92      0.98      0.95       709\n",
      "           2       0.93      0.35      0.51        71\n",
      "           3       0.95      1.00      0.97       242\n",
      "\n",
      "    accuracy                           0.93      1191\n",
      "   macro avg       0.93      0.79      0.83      1191\n",
      "weighted avg       0.93      0.93      0.92      1191\n",
      "\n"
     ]
    }
   ],
   "source": [
    "# now splitting the data into 80% training and 20% testing\n",
    "[x_train,x_test,y_train,y_test] = train_test_split(features,target,test_size=0.2)\n",
    "model.fit(x_train,y_train)\n",
    "\n",
    "predicted_labels = model.predict(x_test)\n",
    "print(\"RBF kernel on un-normalized 80% training data \\n\\n\")\n",
    "print(confusion_matrix(y_test, predicted_labels), end='\\n\\n')\n",
    "print(classification_report(y_test, predicted_labels))"
   ]
  },
  {
   "cell_type": "code",
   "execution_count": 50,
   "metadata": {},
   "outputs": [
    {
     "name": "stdout",
     "output_type": "stream",
     "text": [
      "Linear kernel on un-normalized 60% training data \n",
      "\n",
      "\n",
      "[[ 242   97    0    0]\n",
      " [  52 1346   26    8]\n",
      " [   0   61   76    0]\n",
      " [   1    4    0  468]]\n",
      "\n",
      "              precision    recall  f1-score   support\n",
      "\n",
      "           0       0.82      0.71      0.76       339\n",
      "           1       0.89      0.94      0.92      1432\n",
      "           2       0.75      0.55      0.64       137\n",
      "           3       0.98      0.99      0.99       473\n",
      "\n",
      "    accuracy                           0.90      2381\n",
      "   macro avg       0.86      0.80      0.83      2381\n",
      "weighted avg       0.89      0.90      0.89      2381\n",
      "\n"
     ]
    }
   ],
   "source": [
    "# applying the same steps but with a different kernel\n",
    "\n",
    "# using linear kernel\n",
    "\n",
    "model = svm.SVC(kernel='linear')\n",
    "\n",
    "# first I am splitting the data into 60% training and 40% testing\n",
    "[x_train,x_test,y_train,y_test] = train_test_split(features,target,test_size=0.4)\n",
    "model.fit(x_train,y_train)\n",
    "predicted_labels = model.predict(x_test)\n",
    "print(\"Linear kernel on un-normalized 60% training data \\n\\n\")\n",
    "print(confusion_matrix(y_test, predicted_labels), end='\\n\\n')\n",
    "print(classification_report(y_test, predicted_labels))\n"
   ]
  },
  {
   "cell_type": "code",
   "execution_count": 51,
   "metadata": {},
   "outputs": [
    {
     "name": "stdout",
     "output_type": "stream",
     "text": [
      "Linear kernel on un-normalized 70% training data \n",
      "\n",
      "\n",
      "[[ 168   78    0    0]\n",
      " [  30 1019   22    5]\n",
      " [   0   51   50    0]\n",
      " [   0    2    0  361]]\n",
      "\n",
      "              precision    recall  f1-score   support\n",
      "\n",
      "           0       0.85      0.68      0.76       246\n",
      "           1       0.89      0.95      0.92      1076\n",
      "           2       0.69      0.50      0.58       101\n",
      "           3       0.99      0.99      0.99       363\n",
      "\n",
      "    accuracy                           0.89      1786\n",
      "   macro avg       0.85      0.78      0.81      1786\n",
      "weighted avg       0.89      0.89      0.89      1786\n",
      "\n"
     ]
    }
   ],
   "source": [
    "# now splitting the data into 70% training and 30% testing\n",
    "[x_train,x_test,y_train,y_test] = train_test_split(features,target,test_size=0.3)\n",
    "model.fit(x_train,y_train)\n",
    "\n",
    "predicted_labels = model.predict(x_test)\n",
    "print(\"Linear kernel on un-normalized 70% training data \\n\\n\")\n",
    "print(confusion_matrix(y_test, predicted_labels), end='\\n\\n')\n",
    "print(classification_report(y_test, predicted_labels))"
   ]
  },
  {
   "cell_type": "code",
   "execution_count": 52,
   "metadata": {},
   "outputs": [
    {
     "name": "stdout",
     "output_type": "stream",
     "text": [
      "Linear kernel on un-normalized 80% training data \n",
      "\n",
      "\n",
      "[[102  46   0   0]\n",
      " [ 27 702  16   1]\n",
      " [  0  40  33   0]\n",
      " [  0   0   0 224]]\n",
      "\n",
      "              precision    recall  f1-score   support\n",
      "\n",
      "           0       0.79      0.69      0.74       148\n",
      "           1       0.89      0.94      0.92       746\n",
      "           2       0.67      0.45      0.54        73\n",
      "           3       1.00      1.00      1.00       224\n",
      "\n",
      "    accuracy                           0.89      1191\n",
      "   macro avg       0.84      0.77      0.80      1191\n",
      "weighted avg       0.88      0.89      0.89      1191\n",
      "\n"
     ]
    }
   ],
   "source": [
    "# now splitting the data into 80% training and 20% testing\n",
    "[x_train,x_test,y_train,y_test] = train_test_split(features,target,test_size=0.2)\n",
    "model.fit(x_train,y_train)\n",
    "\n",
    "predicted_labels = model.predict(x_test)\n",
    "print(\"Linear kernel on un-normalized 80% training data \\n\\n\")\n",
    "print(confusion_matrix(y_test, predicted_labels), end='\\n\\n')\n",
    "print(classification_report(y_test, predicted_labels))"
   ]
  },
  {
   "cell_type": "code",
   "execution_count": 53,
   "metadata": {},
   "outputs": [
    {
     "name": "stdout",
     "output_type": "stream",
     "text": [
      "Polynomial kernel on un-normalized 60% training data \n",
      "\n",
      "\n",
      "[[   2  327    0    0]\n",
      " [   2 1410    9    9]\n",
      " [   0   68   81    6]\n",
      " [   0    2    3  462]]\n",
      "\n",
      "              precision    recall  f1-score   support\n",
      "\n",
      "           0       0.50      0.01      0.01       329\n",
      "           1       0.78      0.99      0.87      1430\n",
      "           2       0.87      0.52      0.65       155\n",
      "           3       0.97      0.99      0.98       467\n",
      "\n",
      "    accuracy                           0.82      2381\n",
      "   macro avg       0.78      0.63      0.63      2381\n",
      "weighted avg       0.78      0.82      0.76      2381\n",
      "\n"
     ]
    }
   ],
   "source": [
    "# applying the same steps but with a different kernel\n",
    "\n",
    "# using polynomial kernel\n",
    "\n",
    "model = svm.SVC(kernel='poly')\n",
    "\n",
    "# first I am splitting the data into 60% training and 40% testing\n",
    "[x_train,x_test,y_train,y_test] = train_test_split(features,target,test_size=0.4)\n",
    "model.fit(x_train,y_train)\n",
    "predicted_labels = model.predict(x_test)\n",
    "print(\"Polynomial kernel on un-normalized 60% training data \\n\\n\")\n",
    "print(confusion_matrix(y_test, predicted_labels), end='\\n\\n')\n",
    "print(classification_report(y_test, predicted_labels))"
   ]
  },
  {
   "cell_type": "code",
   "execution_count": 54,
   "metadata": {},
   "outputs": [
    {
     "name": "stdout",
     "output_type": "stream",
     "text": [
      "Polynomial kernel on un-normalized 70% training data \n",
      "\n",
      "\n",
      "[[   0  273    0    0]\n",
      " [   0 1076   15    4]\n",
      " [   0   36   51    3]\n",
      " [   0    2    1  325]]\n",
      "\n",
      "              precision    recall  f1-score   support\n",
      "\n",
      "           0       0.00      0.00      0.00       273\n",
      "           1       0.78      0.98      0.87      1095\n",
      "           2       0.76      0.57      0.65        90\n",
      "           3       0.98      0.99      0.98       328\n",
      "\n",
      "    accuracy                           0.81      1786\n",
      "   macro avg       0.63      0.64      0.63      1786\n",
      "weighted avg       0.69      0.81      0.75      1786\n",
      "\n"
     ]
    },
    {
     "name": "stderr",
     "output_type": "stream",
     "text": [
      "/Users/ilvicumani/Library/Python/3.9/lib/python/site-packages/sklearn/metrics/_classification.py:1471: UndefinedMetricWarning: Precision and F-score are ill-defined and being set to 0.0 in labels with no predicted samples. Use `zero_division` parameter to control this behavior.\n",
      "  _warn_prf(average, modifier, msg_start, len(result))\n",
      "/Users/ilvicumani/Library/Python/3.9/lib/python/site-packages/sklearn/metrics/_classification.py:1471: UndefinedMetricWarning: Precision and F-score are ill-defined and being set to 0.0 in labels with no predicted samples. Use `zero_division` parameter to control this behavior.\n",
      "  _warn_prf(average, modifier, msg_start, len(result))\n",
      "/Users/ilvicumani/Library/Python/3.9/lib/python/site-packages/sklearn/metrics/_classification.py:1471: UndefinedMetricWarning: Precision and F-score are ill-defined and being set to 0.0 in labels with no predicted samples. Use `zero_division` parameter to control this behavior.\n",
      "  _warn_prf(average, modifier, msg_start, len(result))\n"
     ]
    }
   ],
   "source": [
    "# now splitting the data into 70% training and 30% testing\n",
    "[x_train,x_test,y_train,y_test] = train_test_split(features,target,test_size=0.3)\n",
    "model.fit(x_train,y_train)\n",
    "\n",
    "predicted_labels = model.predict(x_test)\n",
    "print(\"Polynomial kernel on un-normalized 70% training data \\n\\n\")\n",
    "print(confusion_matrix(y_test, predicted_labels), end='\\n\\n')\n",
    "print(classification_report(y_test, predicted_labels))"
   ]
  },
  {
   "cell_type": "code",
   "execution_count": 55,
   "metadata": {},
   "outputs": [
    {
     "name": "stdout",
     "output_type": "stream",
     "text": [
      "Polynomial kernel on un-normalized 80% training data \n",
      "\n",
      "\n",
      "[[  1 185   0   0]\n",
      " [  0 697  18   3]\n",
      " [  0  30  33   0]\n",
      " [  0   0   0 224]]\n",
      "\n",
      "              precision    recall  f1-score   support\n",
      "\n",
      "           0       1.00      0.01      0.01       186\n",
      "           1       0.76      0.97      0.86       718\n",
      "           2       0.65      0.52      0.58        63\n",
      "           3       0.99      1.00      0.99       224\n",
      "\n",
      "    accuracy                           0.80      1191\n",
      "   macro avg       0.85      0.62      0.61      1191\n",
      "weighted avg       0.84      0.80      0.73      1191\n",
      "\n"
     ]
    }
   ],
   "source": [
    "# now splitting the data into 80% training and 20% testing\n",
    "[x_train,x_test,y_train,y_test] = train_test_split(features,target,test_size=0.2)\n",
    "model.fit(x_train,y_train)\n",
    "\n",
    "predicted_labels = model.predict(x_test)\n",
    "print(\"Polynomial kernel on un-normalized 80% training data \\n\\n\")\n",
    "print(confusion_matrix(y_test, predicted_labels), end='\\n\\n')\n",
    "print(classification_report(y_test, predicted_labels))"
   ]
  },
  {
   "cell_type": "code",
   "execution_count": 56,
   "metadata": {},
   "outputs": [
    {
     "name": "stdout",
     "output_type": "stream",
     "text": [
      "Sigmoid kernel on un-normalized 60% training data \n",
      "\n",
      "\n",
      "[[ 44  81   0 223]\n",
      " [285 704   0 442]\n",
      " [ 63  80   0   2]\n",
      " [457   0   0   0]]\n",
      "\n",
      "              precision    recall  f1-score   support\n",
      "\n",
      "           0       0.05      0.13      0.07       348\n",
      "           1       0.81      0.49      0.61      1431\n",
      "           2       0.00      0.00      0.00       145\n",
      "           3       0.00      0.00      0.00       457\n",
      "\n",
      "    accuracy                           0.31      2381\n",
      "   macro avg       0.22      0.15      0.17      2381\n",
      "weighted avg       0.50      0.31      0.38      2381\n",
      "\n"
     ]
    },
    {
     "name": "stderr",
     "output_type": "stream",
     "text": [
      "/Users/ilvicumani/Library/Python/3.9/lib/python/site-packages/sklearn/metrics/_classification.py:1471: UndefinedMetricWarning: Precision and F-score are ill-defined and being set to 0.0 in labels with no predicted samples. Use `zero_division` parameter to control this behavior.\n",
      "  _warn_prf(average, modifier, msg_start, len(result))\n",
      "/Users/ilvicumani/Library/Python/3.9/lib/python/site-packages/sklearn/metrics/_classification.py:1471: UndefinedMetricWarning: Precision and F-score are ill-defined and being set to 0.0 in labels with no predicted samples. Use `zero_division` parameter to control this behavior.\n",
      "  _warn_prf(average, modifier, msg_start, len(result))\n",
      "/Users/ilvicumani/Library/Python/3.9/lib/python/site-packages/sklearn/metrics/_classification.py:1471: UndefinedMetricWarning: Precision and F-score are ill-defined and being set to 0.0 in labels with no predicted samples. Use `zero_division` parameter to control this behavior.\n",
      "  _warn_prf(average, modifier, msg_start, len(result))\n"
     ]
    }
   ],
   "source": [
    "# applying the same steps but with a different kernel\n",
    "\n",
    "# using sigmoid kernel\n",
    "\n",
    "model = svm.SVC(kernel='sigmoid')\n",
    "\n",
    "# first I am splitting the data into 60% training and 40% testing\n",
    "[x_train,x_test,y_train,y_test] = train_test_split(features,target,test_size=0.4)\n",
    "model.fit(x_train,y_train)\n",
    "predicted_labels = model.predict(x_test)\n",
    "print(\"Sigmoid kernel on un-normalized 60% training data \\n\\n\")\n",
    "print(confusion_matrix(y_test, predicted_labels), end='\\n\\n')\n",
    "print(classification_report(y_test, predicted_labels))"
   ]
  },
  {
   "cell_type": "code",
   "execution_count": 57,
   "metadata": {},
   "outputs": [
    {
     "name": "stdout",
     "output_type": "stream",
     "text": [
      "Sigmoid kernel on un-normalized 70% training data \n",
      "\n",
      "\n",
      "[[ 31  61   0 149]\n",
      " [207 526   0 365]\n",
      " [ 42  73   0   2]\n",
      " [330   0   0   0]]\n",
      "\n",
      "              precision    recall  f1-score   support\n",
      "\n",
      "           0       0.05      0.13      0.07       241\n",
      "           1       0.80      0.48      0.60      1098\n",
      "           2       0.00      0.00      0.00       117\n",
      "           3       0.00      0.00      0.00       330\n",
      "\n",
      "    accuracy                           0.31      1786\n",
      "   macro avg       0.21      0.15      0.17      1786\n",
      "weighted avg       0.50      0.31      0.38      1786\n",
      "\n"
     ]
    },
    {
     "name": "stderr",
     "output_type": "stream",
     "text": [
      "/Users/ilvicumani/Library/Python/3.9/lib/python/site-packages/sklearn/metrics/_classification.py:1471: UndefinedMetricWarning: Precision and F-score are ill-defined and being set to 0.0 in labels with no predicted samples. Use `zero_division` parameter to control this behavior.\n",
      "  _warn_prf(average, modifier, msg_start, len(result))\n",
      "/Users/ilvicumani/Library/Python/3.9/lib/python/site-packages/sklearn/metrics/_classification.py:1471: UndefinedMetricWarning: Precision and F-score are ill-defined and being set to 0.0 in labels with no predicted samples. Use `zero_division` parameter to control this behavior.\n",
      "  _warn_prf(average, modifier, msg_start, len(result))\n",
      "/Users/ilvicumani/Library/Python/3.9/lib/python/site-packages/sklearn/metrics/_classification.py:1471: UndefinedMetricWarning: Precision and F-score are ill-defined and being set to 0.0 in labels with no predicted samples. Use `zero_division` parameter to control this behavior.\n",
      "  _warn_prf(average, modifier, msg_start, len(result))\n"
     ]
    }
   ],
   "source": [
    "# now splitting the data into 70% training and 30% testing\n",
    "[x_train,x_test,y_train,y_test] = train_test_split(features,target,test_size=0.3)\n",
    "model.fit(x_train,y_train)\n",
    "\n",
    "predicted_labels = model.predict(x_test)\n",
    "print(\"Sigmoid kernel on un-normalized 70% training data \\n\\n\")\n",
    "print(confusion_matrix(y_test, predicted_labels), end='\\n\\n')\n",
    "print(classification_report(y_test, predicted_labels))"
   ]
  },
  {
   "cell_type": "code",
   "execution_count": 58,
   "metadata": {},
   "outputs": [
    {
     "name": "stdout",
     "output_type": "stream",
     "text": [
      "Sigmoid kernel on un-normalized 80% training data \n",
      "\n",
      "\n",
      "[[ 18  41   0 112]\n",
      " [143 372   0 199]\n",
      " [ 30  36   0   2]\n",
      " [238   0   0   0]]\n",
      "\n",
      "              precision    recall  f1-score   support\n",
      "\n",
      "           0       0.04      0.11      0.06       171\n",
      "           1       0.83      0.52      0.64       714\n",
      "           2       0.00      0.00      0.00        68\n",
      "           3       0.00      0.00      0.00       238\n",
      "\n",
      "    accuracy                           0.33      1191\n",
      "   macro avg       0.22      0.16      0.17      1191\n",
      "weighted avg       0.50      0.33      0.39      1191\n",
      "\n"
     ]
    },
    {
     "name": "stderr",
     "output_type": "stream",
     "text": [
      "/Users/ilvicumani/Library/Python/3.9/lib/python/site-packages/sklearn/metrics/_classification.py:1471: UndefinedMetricWarning: Precision and F-score are ill-defined and being set to 0.0 in labels with no predicted samples. Use `zero_division` parameter to control this behavior.\n",
      "  _warn_prf(average, modifier, msg_start, len(result))\n",
      "/Users/ilvicumani/Library/Python/3.9/lib/python/site-packages/sklearn/metrics/_classification.py:1471: UndefinedMetricWarning: Precision and F-score are ill-defined and being set to 0.0 in labels with no predicted samples. Use `zero_division` parameter to control this behavior.\n",
      "  _warn_prf(average, modifier, msg_start, len(result))\n",
      "/Users/ilvicumani/Library/Python/3.9/lib/python/site-packages/sklearn/metrics/_classification.py:1471: UndefinedMetricWarning: Precision and F-score are ill-defined and being set to 0.0 in labels with no predicted samples. Use `zero_division` parameter to control this behavior.\n",
      "  _warn_prf(average, modifier, msg_start, len(result))\n"
     ]
    }
   ],
   "source": [
    "# now splitting the data into 80% training and 20% testing\n",
    "[x_train,x_test,y_train,y_test] = train_test_split(features,target,test_size=0.2)\n",
    "model.fit(x_train,y_train)\n",
    "\n",
    "predicted_labels = model.predict(x_test)\n",
    "print(\"Sigmoid kernel on un-normalized 80% training data \\n\\n\")\n",
    "print(confusion_matrix(y_test, predicted_labels), end='\\n\\n')\n",
    "print(classification_report(y_test, predicted_labels))"
   ]
  },
  {
   "cell_type": "markdown",
   "metadata": {},
   "source": [
    "Now i am applying all four types of kernel to the data that have undergone dimensionality reduction"
   ]
  },
  {
   "cell_type": "code",
   "execution_count": 59,
   "metadata": {},
   "outputs": [
    {
     "name": "stdout",
     "output_type": "stream",
     "text": [
      "RBF kernel on pca data 60% training data \n",
      "\n",
      "\n",
      "[[   0  320    0    2]\n",
      " [   0 1427    0   20]\n",
      " [   0  149    0    5]\n",
      " [   0    9    0  449]]\n",
      "\n",
      "              precision    recall  f1-score   support\n",
      "\n",
      "           0       0.00      0.00      0.00       322\n",
      "           1       0.75      0.99      0.85      1447\n",
      "           2       0.00      0.00      0.00       154\n",
      "           3       0.94      0.98      0.96       458\n",
      "\n",
      "    accuracy                           0.79      2381\n",
      "   macro avg       0.42      0.49      0.45      2381\n",
      "weighted avg       0.64      0.79      0.70      2381\n",
      "\n"
     ]
    },
    {
     "name": "stderr",
     "output_type": "stream",
     "text": [
      "/Users/ilvicumani/Library/Python/3.9/lib/python/site-packages/sklearn/metrics/_classification.py:1471: UndefinedMetricWarning: Precision and F-score are ill-defined and being set to 0.0 in labels with no predicted samples. Use `zero_division` parameter to control this behavior.\n",
      "  _warn_prf(average, modifier, msg_start, len(result))\n",
      "/Users/ilvicumani/Library/Python/3.9/lib/python/site-packages/sklearn/metrics/_classification.py:1471: UndefinedMetricWarning: Precision and F-score are ill-defined and being set to 0.0 in labels with no predicted samples. Use `zero_division` parameter to control this behavior.\n",
      "  _warn_prf(average, modifier, msg_start, len(result))\n",
      "/Users/ilvicumani/Library/Python/3.9/lib/python/site-packages/sklearn/metrics/_classification.py:1471: UndefinedMetricWarning: Precision and F-score are ill-defined and being set to 0.0 in labels with no predicted samples. Use `zero_division` parameter to control this behavior.\n",
      "  _warn_prf(average, modifier, msg_start, len(result))\n"
     ]
    }
   ],
   "source": [
    "model = svm.SVC(kernel='rbf')\n",
    "# first I am splitting the data into 60% training and 40% testing\n",
    "[x_train,x_test,y_train,y_test] = train_test_split(pca_2dd,target,test_size=0.4)\n",
    "model.fit(x_train,y_train)\n",
    "predicted_labels = model.predict(x_test)\n",
    "print(\"RBF kernel on pca data 60% training data \\n\\n\")\n",
    "print(confusion_matrix(y_test, predicted_labels), end='\\n\\n')\n",
    "print(classification_report(y_test, predicted_labels))"
   ]
  },
  {
   "cell_type": "code",
   "execution_count": 60,
   "metadata": {},
   "outputs": [
    {
     "name": "stdout",
     "output_type": "stream",
     "text": [
      "RBF kernel on pca 70% training data \n",
      "\n",
      "\n",
      "[[   0  275    0    0]\n",
      " [   0 1032    0   12]\n",
      " [   0  109    0    2]\n",
      " [   0   12    0  344]]\n",
      "\n",
      "              precision    recall  f1-score   support\n",
      "\n",
      "           0       0.00      0.00      0.00       275\n",
      "           1       0.72      0.99      0.83      1044\n",
      "           2       0.00      0.00      0.00       111\n",
      "           3       0.96      0.97      0.96       356\n",
      "\n",
      "    accuracy                           0.77      1786\n",
      "   macro avg       0.42      0.49      0.45      1786\n",
      "weighted avg       0.61      0.77      0.68      1786\n",
      "\n"
     ]
    },
    {
     "name": "stderr",
     "output_type": "stream",
     "text": [
      "/Users/ilvicumani/Library/Python/3.9/lib/python/site-packages/sklearn/metrics/_classification.py:1471: UndefinedMetricWarning: Precision and F-score are ill-defined and being set to 0.0 in labels with no predicted samples. Use `zero_division` parameter to control this behavior.\n",
      "  _warn_prf(average, modifier, msg_start, len(result))\n",
      "/Users/ilvicumani/Library/Python/3.9/lib/python/site-packages/sklearn/metrics/_classification.py:1471: UndefinedMetricWarning: Precision and F-score are ill-defined and being set to 0.0 in labels with no predicted samples. Use `zero_division` parameter to control this behavior.\n",
      "  _warn_prf(average, modifier, msg_start, len(result))\n",
      "/Users/ilvicumani/Library/Python/3.9/lib/python/site-packages/sklearn/metrics/_classification.py:1471: UndefinedMetricWarning: Precision and F-score are ill-defined and being set to 0.0 in labels with no predicted samples. Use `zero_division` parameter to control this behavior.\n",
      "  _warn_prf(average, modifier, msg_start, len(result))\n"
     ]
    }
   ],
   "source": [
    "# now splitting the data into 70% training and 30% testing\n",
    "[x_train,x_test,y_train,y_test] = train_test_split(pca_2dd,target,test_size=0.3)\n",
    "model.fit(x_train,y_train)\n",
    "\n",
    "predicted_labels = model.predict(x_test)\n",
    "print(\"RBF kernel on pca 70% training data \\n\\n\")\n",
    "print(confusion_matrix(y_test, predicted_labels), end='\\n\\n')\n",
    "print(classification_report(y_test, predicted_labels))"
   ]
  },
  {
   "cell_type": "code",
   "execution_count": 61,
   "metadata": {},
   "outputs": [
    {
     "name": "stdout",
     "output_type": "stream",
     "text": [
      "RBF kernel on pca 80% training data \n",
      "\n",
      "\n",
      "[[  0 170   0   0]\n",
      " [  0 705   0  11]\n",
      " [  0  69   0   3]\n",
      " [  0   5   0 228]]\n",
      "\n",
      "              precision    recall  f1-score   support\n",
      "\n",
      "           0       0.00      0.00      0.00       170\n",
      "           1       0.74      0.98      0.85       716\n",
      "           2       0.00      0.00      0.00        72\n",
      "           3       0.94      0.98      0.96       233\n",
      "\n",
      "    accuracy                           0.78      1191\n",
      "   macro avg       0.42      0.49      0.45      1191\n",
      "weighted avg       0.63      0.78      0.70      1191\n",
      "\n"
     ]
    },
    {
     "name": "stderr",
     "output_type": "stream",
     "text": [
      "/Users/ilvicumani/Library/Python/3.9/lib/python/site-packages/sklearn/metrics/_classification.py:1471: UndefinedMetricWarning: Precision and F-score are ill-defined and being set to 0.0 in labels with no predicted samples. Use `zero_division` parameter to control this behavior.\n",
      "  _warn_prf(average, modifier, msg_start, len(result))\n",
      "/Users/ilvicumani/Library/Python/3.9/lib/python/site-packages/sklearn/metrics/_classification.py:1471: UndefinedMetricWarning: Precision and F-score are ill-defined and being set to 0.0 in labels with no predicted samples. Use `zero_division` parameter to control this behavior.\n",
      "  _warn_prf(average, modifier, msg_start, len(result))\n",
      "/Users/ilvicumani/Library/Python/3.9/lib/python/site-packages/sklearn/metrics/_classification.py:1471: UndefinedMetricWarning: Precision and F-score are ill-defined and being set to 0.0 in labels with no predicted samples. Use `zero_division` parameter to control this behavior.\n",
      "  _warn_prf(average, modifier, msg_start, len(result))\n"
     ]
    }
   ],
   "source": [
    "# now splitting the data into 80% training and 20% testing\n",
    "[x_train,x_test,y_train,y_test] = train_test_split(pca_2dd,target,test_size=0.2)\n",
    "model.fit(x_train,y_train)\n",
    "\n",
    "predicted_labels = model.predict(x_test)\n",
    "print(\"RBF kernel on pca 80% training data \\n\\n\")\n",
    "print(confusion_matrix(y_test, predicted_labels), end='\\n\\n')\n",
    "print(classification_report(y_test, predicted_labels))"
   ]
  },
  {
   "cell_type": "code",
   "execution_count": 62,
   "metadata": {},
   "outputs": [],
   "source": [
    "# applying the same steps but with a different kernel\n",
    "\n",
    "# using linear kernel\n",
    "\n",
    "model = svm.SVC(kernel='linear')\n",
    "\n",
    "# first I am splitting the data into 60% training and 40% testing\n",
    "[x_train,x_test,y_train,y_test] = train_test_split(pca_2dd,target,test_size=0.4)\n",
    "model.fit(x_train,y_train)\n",
    "predicted_labels = model.predict(x_test)\n",
    "print(\"Linear kernel on pca 60% training data \\n\\n\")\n",
    "print(confusion_matrix(y_test, predicted_labels), end='\\n\\n')\n",
    "print(classification_report(y_test, predicted_labels))"
   ]
  },
  {
   "cell_type": "code",
   "execution_count": null,
   "metadata": {},
   "outputs": [],
   "source": [
    "# now splitting the data into 70% training and 30% testing\n",
    "[x_train,x_test,y_train,y_test] = train_test_split(pca_2dd,target,test_size=0.3)\n",
    "model.fit(x_train,y_train)\n",
    "\n",
    "predicted_labels = model.predict(x_test)\n",
    "print(\"Linear kernel on pca 70% training data \\n\\n\")\n",
    "print(confusion_matrix(y_test, predicted_labels), end='\\n\\n')\n",
    "print(classification_report(y_test, predicted_labels))"
   ]
  },
  {
   "cell_type": "code",
   "execution_count": null,
   "metadata": {},
   "outputs": [],
   "source": [
    "# now splitting the data into 80% training and 20% testing\n",
    "[x_train,x_test,y_train,y_test] = train_test_split(pca_2dd,target,test_size=0.2)\n",
    "model.fit(x_train,y_train)\n",
    "\n",
    "predicted_labels = model.predict(x_test)\n",
    "print(\"Linear kernel on pca 80% training data \\n\\n\")\n",
    "print(confusion_matrix(y_test, predicted_labels), end='\\n\\n')\n",
    "print(classification_report(y_test, predicted_labels))"
   ]
  },
  {
   "cell_type": "code",
   "execution_count": null,
   "metadata": {},
   "outputs": [],
   "source": [
    "# applying the same steps but with a different kernel\n",
    "\n",
    "# using polynomial kernel\n",
    "\n",
    "model = svm.SVC(kernel='poly')\n",
    "\n",
    "# first I am splitting the data into 60% training and 40% testing\n",
    "[x_train,x_test,y_train,y_test] = train_test_split(pca_2dd,target,test_size=0.4)\n",
    "model.fit(x_train,y_train)\n",
    "predicted_labels = model.predict(x_test)\n",
    "print(\"Polynomial kernel on pca 60% training data \\n\\n\")\n",
    "print(confusion_matrix(y_test, predicted_labels), end='\\n\\n')\n",
    "print(classification_report(y_test, predicted_labels))"
   ]
  },
  {
   "cell_type": "code",
   "execution_count": null,
   "metadata": {},
   "outputs": [],
   "source": [
    "# now splitting the data into 70% training and 30% testing\n",
    "[x_train,x_test,y_train,y_test] = train_test_split(pca_2dd,target,test_size=0.3)\n",
    "model.fit(x_train,y_train)\n",
    "\n",
    "predicted_labels = model.predict(x_test)\n",
    "print(\"Polynomial kernel on pca 70% training data \\n\\n\")\n",
    "print(confusion_matrix(y_test, predicted_labels), end='\\n\\n')\n",
    "print(classification_report(y_test, predicted_labels))"
   ]
  },
  {
   "cell_type": "code",
   "execution_count": null,
   "metadata": {},
   "outputs": [],
   "source": [
    "# now splitting the data into 80% training and 20% testing\n",
    "[x_train,x_test,y_train,y_test] = train_test_split(pca_2dd,target,test_size=0.2)\n",
    "model.fit(x_train,y_train)\n",
    "\n",
    "predicted_labels = model.predict(x_test)\n",
    "print(\"Polynomial kernel on pca 80% training data \\n\\n\")\n",
    "print(confusion_matrix(y_test, predicted_labels), end='\\n\\n')\n",
    "print(classification_report(y_test, predicted_labels))"
   ]
  },
  {
   "cell_type": "code",
   "execution_count": null,
   "metadata": {},
   "outputs": [],
   "source": [
    "# applying the same steps but with a different kernel\n",
    "\n",
    "# using sigmoid kernel\n",
    "\n",
    "model = svm.SVC(kernel='sigmoid')\n",
    "\n",
    "# first I am splitting the data into 60% training and 40% testing\n",
    "[x_train,x_test,y_train,y_test] = train_test_split(pca_2dd,target,test_size=0.4)\n",
    "model.fit(x_train,y_train)\n",
    "predicted_labels = model.predict(x_test)\n",
    "print(\"Sigmoid kernel on pca 60% training data \\n\\n\")\n",
    "print(confusion_matrix(y_test, predicted_labels), end='\\n\\n')\n",
    "print(classification_report(y_test, predicted_labels))"
   ]
  },
  {
   "cell_type": "code",
   "execution_count": null,
   "metadata": {},
   "outputs": [],
   "source": [
    "# now splitting the data into 70% training and 30% testing\n",
    "[x_train,x_test,y_train,y_test] = train_test_split(pca_2dd,target,test_size=0.3)\n",
    "model.fit(x_train,y_train)\n",
    "\n",
    "predicted_labels = model.predict(x_test)\n",
    "print(\"Sigmoid kernel on pca 70% training data \\n\\n\")\n",
    "print(confusion_matrix(y_test, predicted_labels), end='\\n\\n')\n",
    "print(classification_report(y_test, predicted_labels))"
   ]
  },
  {
   "cell_type": "code",
   "execution_count": null,
   "metadata": {},
   "outputs": [],
   "source": [
    "# now splitting the data into 80% training and 20% testing\n",
    "[x_train,x_test,y_train,y_test] = train_test_split(pca_2dd,target,test_size=0.2)\n",
    "model.fit(x_train,y_train)\n",
    "\n",
    "predicted_labels = model.predict(x_test)\n",
    "print(\"Polynomial kernel on pca 80% training data \\n\\n\")\n",
    "print(confusion_matrix(y_test, predicted_labels), end='\\n\\n')\n",
    "print(classification_report(y_test, predicted_labels))"
   ]
  }
 ],
 "metadata": {
  "kernelspec": {
   "display_name": "Python 3",
   "language": "python",
   "name": "python3"
  },
  "language_info": {
   "codemirror_mode": {
    "name": "ipython",
    "version": 3
   },
   "file_extension": ".py",
   "mimetype": "text/x-python",
   "name": "python",
   "nbconvert_exporter": "python",
   "pygments_lexer": "ipython3",
   "version": "3.9.6"
  }
 },
 "nbformat": 4,
 "nbformat_minor": 2
}
